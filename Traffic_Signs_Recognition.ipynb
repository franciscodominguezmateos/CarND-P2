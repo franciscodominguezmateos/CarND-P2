{
 "cells": [
  {
   "cell_type": "markdown",
   "metadata": {
    "deletable": true,
    "editable": true
   },
   "source": [
    "# Self-Driving Car Engineer Nanodegree\n",
    "\n",
    "## Deep Learning\n",
    "\n",
    "## Project: Build a Traffic Sign Recognition Classifier\n",
    "\n",
    "In this notebook, a template is provided for you to implement your functionality in stages which is required to successfully complete this project. If additional code is required that cannot be included in the notebook, be sure that the Python code is successfully imported and included in your submission, if necessary. Sections that begin with **'Implementation'** in the header indicate where you should begin your implementation for your project. Note that some sections of implementation are optional, and will be marked with **'Optional'** in the header.\n",
    "\n",
    "In addition to implementing code, there will be questions that you must answer which relate to the project and your implementation. Each section where you will answer a question is preceded by a **'Question'** header. Carefully read each question and provide thorough answers in the following text boxes that begin with **'Answer:'**. Your project submission will be evaluated based on your answers to each of the questions and the implementation you provide.\n",
    "\n",
    ">**Note:** Code and Markdown cells can be executed using the **Shift + Enter** keyboard shortcut. In addition, Markdown cells can be edited by typically double-clicking the cell to enter edit mode."
   ]
  },
  {
   "cell_type": "markdown",
   "metadata": {
    "deletable": true,
    "editable": true
   },
   "source": [
    "---\n",
    "\n",
    "## Step 1: Dataset Exploration\n",
    "\n",
    "Visualize the German Traffic Signs Dataset. This is open ended, some suggestions include: plotting traffic signs images, plotting the count of each sign, etc. Be creative!\n",
    "\n",
    "\n",
    "The pickled data is a dictionary with 4 key/value pairs:\n",
    "\n",
    "- features -> the images pixel values, (width, height, channels)\n",
    "- labels -> the label of the traffic sign\n",
    "- sizes -> the original width and height of the image, (width, height)\n",
    "- coords -> coordinates of a bounding box around the sign in the image, (x1, y1, x2, y2). Based the original image (not the resized version)."
   ]
  },
  {
   "cell_type": "code",
   "execution_count": 1,
   "metadata": {
    "collapsed": false,
    "deletable": true,
    "editable": true
   },
   "outputs": [
    {
     "name": "stdout",
     "output_type": "stream",
     "text": [
      "X_train set (39209, 32, 32, 3) (39209,)\n",
      "X_Test  set (12630, 32, 32, 3) (12630,)\n"
     ]
    }
   ],
   "source": [
    "# Load pickled data\n",
    "import pickle\n",
    "import cv2\n",
    "\n",
    "# TODO: fill this in based on where you saved the training and testing data\n",
    "training_file = \"train.p\"\n",
    "testing_file = \"test.p\"\n",
    "\n",
    "with open(training_file, mode='rb') as f:\n",
    "    train = pickle.load(f)\n",
    "with open(testing_file, mode='rb') as f:\n",
    "    test = pickle.load(f)\n",
    "    \n",
    "X_train, y_train = train['features'], train['labels']\n",
    "X_test, y_test = test['features'], test['labels']\n",
    "print('X_train set', X_train.shape, y_train.shape)\n",
    "print('X_Test  set', X_test.shape , y_test.shape)"
   ]
  },
  {
   "cell_type": "code",
   "execution_count": 2,
   "metadata": {
    "collapsed": false,
    "deletable": true,
    "editable": true
   },
   "outputs": [
    {
     "name": "stdout",
     "output_type": "stream",
     "text": [
      "Number of training examples = 39209\n",
      "Number of testing examples = 12630\n",
      "Image data shape = (32, 32, 3)\n",
      "n_classes= 43\n"
     ]
    }
   ],
   "source": [
    "### To start off let's do a basic data summary.\n",
    "\n",
    "# TODO: number of training examples\n",
    "n_train = X_train.shape[0]\n",
    "\n",
    "# TODO: number of testing examples\n",
    "n_test = X_test.shape[0]\n",
    "\n",
    "# TODO: what's the shape of an image?\n",
    "image_shape = X_train.shape[1:]\n",
    "\n",
    "# TODO: how many classes are in the dataset\n",
    "n_classes = max(y_train)+1\n",
    "\n",
    "print(\"Number of training examples =\", n_train)\n",
    "print(\"Number of testing examples =\", n_test)\n",
    "print(\"Image data shape =\", image_shape)\n",
    "print(\"n_classes=\",n_classes)"
   ]
  },
  {
   "cell_type": "code",
   "execution_count": 3,
   "metadata": {
    "collapsed": false,
    "deletable": true,
    "editable": true
   },
   "outputs": [
    {
     "name": "stdout",
     "output_type": "stream",
     "text": [
      "l= 39209\n",
      "label= 13\n",
      "label= 7\n",
      "label= 34\n",
      "label= 8\n"
     ]
    },
    {
     "data": {
      "image/png": "[encoded data removed]",
      "text/plain": [
       "<matplotlib.figure.Figure at 0x7fe67c644390>"
      ]
     },
     "metadata": {},
     "output_type": "display_data"
    },
    {
     "data": {
      "image/png": "[encoded data removed]",
      "text/plain": [
       "<matplotlib.figure.Figure at 0x7fe6119c9e80>"
      ]
     },
     "metadata": {},
     "output_type": "display_data"
    },
    {
     "data": {
      "image/png": "[encoded data removed]",
      "text/plain": [
       "<matplotlib.figure.Figure at 0x7fe6119e49b0>"
      ]
     },
     "metadata": {},
     "output_type": "display_data"
    },
    {
     "data": {
      "image/png": "[encoded data removed]",
      "text/plain": [
       "<matplotlib.figure.Figure at 0x7fe6118f2710>"
      ]
     },
     "metadata": {},
     "output_type": "display_data"
    }
   ],
   "source": [
    "### Data exploration visualization goes here.\n",
    "### Feel free to use as many code cells as needed.\n",
    "import math\n",
    "import numpy as np\n",
    "from sklearn.model_selection import train_test_split\n",
    "import matplotlib.pyplot as plt\n",
    "from IPython.display import display, Image\n",
    "from tqdm import tqdm \n",
    "import tensorflow as tf\n",
    "\n",
    "# Config the matplotlib backend as plotting inline in IPython\n",
    "%matplotlib inline\n",
    "\n",
    "l=X_train.shape[0]\n",
    "print (\"l=\",l)\n",
    "for a in range(4):\n",
    "    sample_idx = np.random.randint(l)  # pick a random image index\n",
    "    sample_image = X_train[sample_idx]  # extract a 2D slice\n",
    "    print (\"label=\",y_train[sample_idx])\n",
    "    plt.figure()\n",
    "    plt.imshow(sample_image)\n"
   ]
  },
  {
   "cell_type": "markdown",
   "metadata": {
    "deletable": true,
    "editable": true
   },
   "source": [
    "----\n",
    "\n",
    "## Step 2: Design and Test a Model Architecture\n",
    "\n",
    "Design and implement a deep learning model that learns to recognize traffic signs. Train and test your model on the [German Traffic Sign Dataset](http://benchmark.ini.rub.de/?section=gtsrb&subsection=dataset).\n",
    "\n",
    "There are various aspects to consider when thinking about this problem:\n",
    "\n",
    "- Your model can be derived from a deep feedforward net or a deep convolutional network.\n",
    "- Play around preprocessing techniques (normalization, rgb to grayscale, etc)\n",
    "- Number of examples per label (some have more than others).\n",
    "- Generate fake data.\n",
    "\n",
    "Here is an example of a [published baseline model on this problem](http://yann.lecun.com/exdb/publis/pdf/sermanet-ijcnn-11.pdf). It's not required to be familiar with the approach used in the paper but, it's good practice to try to read papers like these."
   ]
  },
  {
   "cell_type": "markdown",
   "metadata": {
    "deletable": true,
    "editable": true
   },
   "source": [
    "### Implementation\n",
    "\n",
    "Use the code cell (or multiple code cells, if necessary) to implement the first step of your project. Once you have completed your implementation and are satisfied with the results, be sure to thoroughly answer the questions that follow."
   ]
  },
  {
   "cell_type": "code",
   "execution_count": 4,
   "metadata": {
    "collapsed": false,
    "deletable": true,
    "editable": true
   },
   "outputs": [],
   "source": [
    "### Preprocess the data here.\n",
    "### Feel free to use as many code cells as needed.\n",
    "image_size = image_shape[0]\n",
    "n_channels=image_shape[2]\n",
    "num_labels = n_classes\n",
    "# With gradient descent training, even this much data is prohibitive.\n",
    "# Subset the training data for faster turnaround.\n",
    "train_subset = int(n_train*0.85)\n",
    "test_subset=2000\n",
    "\n",
    "def normalize(image_data):\n",
    "    \"\"\"\n",
    "    Normalize the image data with Min-Max scaling to a range of [0.1, 0.9]\n",
    "    :param image_data: The image data to be normalized\n",
    "    :return: Normalized image data\n",
    "    \"\"\"\n",
    "    a = -0.5\n",
    "    b = 0.5\n",
    "    greyscale_min = 0\n",
    "    greyscale_max = 255\n",
    "    return a + ( ( (image_data - greyscale_min)*(b - a) )/( greyscale_max - greyscale_min ) )\n",
    "\n",
    "def reformat(dataset, labels):\n",
    "  dataset = dataset.reshape((-1, image_size * image_size*n_channels)).astype(np.float32)\n",
    "  # Map 0 to [1.0, 0.0, 0.0 ...], 1 to [0.0, 1.0, 0.0 ...]\n",
    "  labels = (np.arange(num_labels) == labels[:,None]).astype(np.float32)\n",
    "  return dataset, labels\n",
    "\n",
    "train_dataset_prenorm, train_labels = reformat(X_train,y_train)\n",
    "test_dataset_prenorm,  test_labels  = reformat(X_test,y_test)\n",
    "\n",
    "train_dataset=normalize(train_dataset_prenorm)\n",
    "test_dataset =test_dataset_prenorm#normalize_greyscale(test_dataset_prenorm)\n"
   ]
  },
  {
   "cell_type": "code",
   "execution_count": 5,
   "metadata": {
    "collapsed": false,
    "deletable": true,
    "editable": true
   },
   "outputs": [
    {
     "name": "stdout",
     "output_type": "stream",
     "text": [
      "l= 12630\n",
      "label= [ 0.  0.  0.  0.  0.  1.  0.  0.  0.  0.  0.  0.  0.  0.  0.  0.  0.  0.\n",
      "  0.  0.  0.  0.  0.  0.  0.  0.  0.  0.  0.  0.  0.  0.  0.  0.  0.  0.\n",
      "  0.  0.  0.  0.  0.  0.  0.]\n",
      "nlabels= 43\n"
     ]
    },
    {
     "data": {
      "image/png": "[encoded data removed]",
      "text/plain": [
       "<matplotlib.figure.Figure at 0x7fe60f7fafd0>"
      ]
     },
     "metadata": {},
     "output_type": "display_data"
    },
    {
     "data": {
      "image/png": "[encoded data removed]",
      "text/plain": [
       "<matplotlib.figure.Figure at 0x7fe5f2c49438>"
      ]
     },
     "metadata": {},
     "output_type": "display_data"
    },
    {
     "data": {
      "image/png": "[encoded data removed]",
      "text/plain": [
       "<matplotlib.figure.Figure at 0x7fe5f2c53ac8>"
      ]
     },
     "metadata": {},
     "output_type": "display_data"
    },
    {
     "data": {
      "image/png": "[encoded data removed]",
      "text/plain": [
       "<matplotlib.figure.Figure at 0x7fe5f2be3e10>"
      ]
     },
     "metadata": {},
     "output_type": "display_data"
    }
   ],
   "source": [
    "\n",
    "l=test_dataset.shape[0]\n",
    "print (\"l=\",l)\n",
    "for a in range(1):\n",
    "    sample_idx = np.random.randint(l)  # pick a random image index\n",
    "    sample_image_X = X_train[sample_idx]  # extract a 2D slice\n",
    "    sample_image_test = test_dataset[sample_idx]  # extract a 2D slice\n",
    "    sample_image = train_dataset[sample_idx]  # extract a 2D slice\n",
    "    sample_image_prenorm = train_dataset_prenorm[sample_idx]  # extract a 2D slice\n",
    "    print (\"label=\",train_labels[sample_idx])\n",
    "    print(\"nlabels=\",len(train_labels[sample_idx]))\n",
    "    plt.figure()\n",
    "    plt.imshow(sample_image_X)\n",
    "    plt.figure()\n",
    "    plt.imshow(sample_image_prenorm.reshape([32,32,3]))\n",
    "    plt.figure()\n",
    "    plt.imshow((sample_image.reshape([32,32,3])+0.5))\n",
    "    plt.figure()\n",
    "    plt.imshow(sample_image_test.reshape([32,32,3]))\n"
   ]
  },
  {
   "cell_type": "markdown",
   "metadata": {
    "deletable": true,
    "editable": true
   },
   "source": [
    "### Question 1 \n",
    "\n",
    "_Describe the techniques used to preprocess the data._"
   ]
  },
  {
   "cell_type": "markdown",
   "metadata": {
    "deletable": true,
    "editable": true
   },
   "source": [
    "**Answer:**\n",
    "I have used a simple preprocessing technique, just normalizing from -0.5 to 0.5. \n",
    "\n",
    "REVIEW: This approach gives the advantage of treat all dimensions as equals, since all values in all dimensions are in the same range. if that woudln't be the case, then a dimension would be more importan than others. Normalization usually is done by taking the mean and dividing by standard deviation, but on images since range is known, a common approasch is just substract divide by 255 and substract 0.5."
   ]
  },
  {
   "cell_type": "code",
   "execution_count": 6,
   "metadata": {
    "collapsed": false,
    "deletable": true,
    "editable": true
   },
   "outputs": [
    {
     "name": "stdout",
     "output_type": "stream",
     "text": [
      "Training features and labels randomized and split.\n",
      "Training set (33327, 3072) (33327, 43)\n",
      "Validation set (3529, 3072) (3529, 43)\n",
      "Test set (2000, 3072) (2000, 43)\n"
     ]
    }
   ],
   "source": [
    "### Generate data additional (if you want to!)\n",
    "### and split the data into training/validation/testing sets here.\n",
    "### Feel free to use as many code cells as needed.\n",
    "# Get randomized datasets for training and validation\n",
    "\n",
    "train_dataset, valid_dataset, train_labels, valid_labels = train_test_split(\n",
    "    train_dataset,\n",
    "    train_labels,\n",
    "    test_size=0.09,\n",
    "    random_state=832289)\n",
    "#Get a subset of training data in order to work faster\n",
    "train_dataset,train_labels=train_dataset[:train_subset,:],train_labels[:train_subset]\n",
    "\n",
    "print('Training features and labels randomized and split.')\n",
    "#valid_dataset, valid_labels = reformat(X_train[train_subset:train_subset+valid_subset,:],\n",
    "#                                       y_train[train_subset:train_subset+valid_subset])\n",
    "test_dataset , test_labels  = reformat(test_dataset[:test_subset,:],y_test[:test_subset])\n",
    "test_dataset =normalize(test_dataset)\n",
    "print('Training set', train_dataset.shape, train_labels.shape)\n",
    "print('Validation set', valid_dataset.shape, valid_labels.shape)\n",
    "print('Test set', test_dataset.shape, test_labels.shape)"
   ]
  },
  {
   "cell_type": "markdown",
   "metadata": {
    "deletable": true,
    "editable": true
   },
   "source": [
    "### Question 2\n",
    "\n",
    "_Describe how you set up the training, validation and testing data for your model. If you generated additional data, why?_"
   ]
  },
  {
   "cell_type": "markdown",
   "metadata": {
    "deletable": true,
    "editable": true
   },
   "source": [
    "**Answer:**\n",
    "I have a GPU with 2Gbytes and have some memory limitations.<br>\n",
    "I can only use 85% of the training data and it is split in 33327 samples to traing and 3529 to validate. Just can use 2000 samples for test, with more data I got run out of memory error."
   ]
  },
  {
   "cell_type": "code",
   "execution_count": 7,
   "metadata": {
    "collapsed": false,
    "deletable": true,
    "editable": true
   },
   "outputs": [
    {
     "name": "stdout",
     "output_type": "stream",
     "text": [
      "n_clases= 43\n",
      "WARNING:tensorflow:From <ipython-input-7-59441486eabe>:148 in <module>.: initialize_all_variables (from tensorflow.python.ops.variables) is deprecated and will be removed after 2017-03-02.\n",
      "Instructions for updating:\n",
      "Use `tf.global_variables_initializer` instead.\n"
     ]
    }
   ],
   "source": [
    "### Define your architecture here.\n",
    "### Feel free to use as many code cells as needed.\n",
    "batch_size = 128\n",
    "learning_rate = 0.001\n",
    "dropout=0.5\n",
    "\n",
    "# Create some wrappers for simplicity\n",
    "def lin(x,W,b):\n",
    "    l=tf.add(tf.matmul(x,W),b)\n",
    "    return l\n",
    "\n",
    "def fc(x,W,b): \n",
    "    l=lin(x,W,b)\n",
    "    fc=tf.nn.relu(l)\n",
    "    return fc\n",
    "\n",
    "def fc_drop(x,W,b,dropout):\n",
    "    l=lin(x,W,b)\n",
    "    fc=tf.nn.relu(l)\n",
    "    fc=tf.nn.dropout(fc,dropout)\n",
    "    return fc\n",
    "\n",
    "def conv2d(x, W, b, strides=1):\n",
    "    # Conv2D wrapper, with bias and relu activation\n",
    "    x = tf.nn.conv2d(x, W, strides=[1, strides, strides, 1], padding='SAME')\n",
    "    x = tf.nn.bias_add(x, b)\n",
    "    return tf.nn.relu(x)\n",
    "\n",
    "def maxpool2d(x, k=2):\n",
    "    # MaxPool2D wrapper\n",
    "    return tf.nn.max_pool(x, ksize=[1, k, k, 1], strides=[1, k, k, 1],\n",
    "                          padding='SAME')\n",
    "def conv2dmaxp(x,W,b,k=2):\n",
    "    #if you do maxpoo don't do strides in conv\n",
    "    cv=conv2d(x,W,b)\n",
    "    mp=maxpool2d(cv,k)\n",
    "    return mp\n",
    "def conv2dmaxpdrop(x,W,b,k=2,dropout=0.5):\n",
    "    #if you do maxpoo don't do strides in conv\n",
    "    cv=conv2d(x,W,b)\n",
    "    mp=maxpool2d(cv,k)\n",
    "    return tf.nn.dropout(mp,dropout)\n",
    "\n",
    "# Create model\n",
    "def annX(x, weights, biases, dropout):\n",
    "    # Reshape input picture\n",
    "    x = tf.reshape(x, shape=[-1, image_size, image_size, n_channels])\n",
    "\n",
    "    # Convolution Layer\n",
    "    conv1 = conv2d(x, weights['wc1'], biases['bc1'])\n",
    "    # Max Pooling (down-sampling)\n",
    "    conv1 = maxpool2d(conv1, k=2)\n",
    "\n",
    "    # Convolution Layer\n",
    "    conv2 = conv2d(conv1, weights['wc2'], biases['bc2'])\n",
    "    # Max Pooling (down-sampling)\n",
    "    conv2 = maxpool2d(conv2, k=2)\n",
    "    #conv2=x\n",
    "\n",
    "    # Fully connected layer\n",
    "    # Reshape conv2 output to fit fully connected layer input\n",
    "    fc1 = tf.reshape(conv2, [-1, weights['wd1'].get_shape().as_list()[0]])\n",
    "    fc1 = tf.add(tf.matmul(fc1, weights['wd1']), biases['bd1'])\n",
    "    fc1 = tf.nn.relu(fc1)\n",
    "    # Apply Dropout\n",
    "    fc1 = tf.nn.dropout(fc1, dropout)\n",
    "    # Output, class prediction\n",
    "    out = tf.add(tf.matmul(fc1, weights['out']), biases['out'])\n",
    "    return out\n",
    "def ann0(x, weights, biases, dropout):\n",
    "    fc1=fc_drop(x,weights['wd1full'], biases['bd1'],dropout)\n",
    "    out = lin(fc1, weights['out'], biases['out'])\n",
    "    return out\n",
    "def ann1(x, weights, biases, dropout):\n",
    "    x = tf.reshape(x, shape=[-1, image_size, image_size, n_channels])\n",
    "    conv1=conv2dmaxp(x    ,weights['wc1'],biases['bc1'])\n",
    "    conv2=conv2dmaxp(conv1,weights['wc2'],biases['bc2'])\n",
    "    #fc1 = tf.reshape(conv2, [-1, weights['wd1'].get_shape().as_list()[0]])\n",
    "    shape = conv2.get_shape().as_list()\n",
    "    flat = tf.reshape(conv2, [-1, shape[1] * shape[2] * shape[3]])\n",
    "    fc1 = fc_drop(flat,weights['wd1'], biases['bd1'],dropout)\n",
    "    # Output, class prediction\n",
    "    out = lin(fc1, weights['out'], biases['out'])\n",
    "    return out\n",
    "def ann(x, weights, biases, dropout):\n",
    "    x = tf.reshape(x, shape=[-1, image_size, image_size, n_channels])\n",
    "    conv1=conv2dmaxp(x    ,weights['wc1'],biases['bc1'])\n",
    "    conv2=conv2dmaxpdrop(conv1,weights['wc2'],biases['bc2'])\n",
    "    #fc1 = tf.reshape(conv2, [-1, weights['wd1'].get_shape().as_list()[0]])\n",
    "    shape = conv2.get_shape().as_list()\n",
    "    flat = tf.reshape(conv2, [-1, shape[1] * shape[2] * shape[3]])\n",
    "    fc1 = fc_drop(flat,weights['wd1'], biases['bd1'],dropout)\n",
    "    fc2 = fc_drop(fc1 ,weights['wd2'], biases['bd2'],dropout)\n",
    "    # Output, class prediction\n",
    "    out = lin(fc2, weights['out'], biases['out'])\n",
    "    return out\n",
    "\n",
    "# Store layers weight & bias\n",
    "weights = {\n",
    "    # 5x5 conv, 1 input, 32 outputs\n",
    "    'wc1': tf.Variable(tf.truncated_normal([5, 5, n_channels, 32], stddev=0.1)),\n",
    "    # 5x5 conv, 32 inputs, 64 outputs\n",
    "    'wc2': tf.Variable(tf.truncated_normal([5, 5, 32, 64], stddev=0.1)),\n",
    "    # fully connected, 7*7*64 inputs, 1024 outputs\n",
    "    'wd1': tf.Variable(tf.truncated_normal([image_size//4*image_size//4*64, 512], stddev=0.1)),\n",
    "    'wd2': tf.Variable(tf.truncated_normal([512, 256], stddev=0.1)),\n",
    "    'wd1full': tf.Variable(tf.truncated_normal([image_size*image_size*n_channels, 1014], stddev=0.1)),\n",
    "    # 1024 inputs, 10 outputs (class prediction)\n",
    "    'out': tf.Variable(tf.truncated_normal([256, n_classes], stddev=0.1))\n",
    "}\n",
    "\n",
    "print(\"n_clases=\", n_classes)\n",
    "\n",
    "biases = {\n",
    "    'bc1': tf.Variable(tf.zeros([32])),\n",
    "    'bc2': tf.Variable(tf.constant(1.0,shape=[64])),\n",
    "    'bd1': tf.Variable(tf.constant(1.0,shape=[512])),\n",
    "    'bd2': tf.Variable(tf.constant(1.0,shape=[256])),\n",
    "    'out': tf.Variable(tf.constant(1.0,shape=[n_classes]))\n",
    "}\n",
    "\n",
    "x = tf.placeholder(tf.float32)\n",
    "l = tf.placeholder(tf.float32)\n",
    "keep_prob = tf.placeholder(tf.float32) #dropout (keep probability)\n",
    "# Feed dicts for training, validation, and test session\n",
    "#train_feed_dict = {x: train_dataset, l: train_labels,keep_prob:dropout}\n",
    "valid_feed_dict = {x: valid_dataset, l: valid_labels,keep_prob:1.0}\n",
    "test_feed_dict =  {x: test_dataset , l: test_labels ,keep_prob:1.0}\n",
    "\n",
    "# Training computation.\n",
    "# tf Graph input\n",
    "logits     = ann(x,weights,biases,keep_prob)\n",
    "prediction = tf.nn.softmax(logits)\n",
    "loss       = tf.reduce_mean(tf.nn.softmax_cross_entropy_with_logits(logits, l))\n",
    "\n",
    "# Evaluate model\n",
    "# Determine if the predictions are correct\n",
    "is_correct_prediction = tf.equal(tf.argmax(prediction, 1), tf.argmax(l, 1))\n",
    "# Calculate the accuracy of the predictions\n",
    "accuracy = tf.reduce_mean(tf.cast(is_correct_prediction, tf.float32))\n",
    "\n",
    "# Optimizer.\n",
    "#optimizer = tf.train.GradientDescentOptimizer(learning_rate).minimize(loss)\n",
    "optimizer = tf.train.AdamOptimizer(learning_rate).minimize(loss)\n",
    "\n",
    "  \n",
    "# Predictions for the training, validation, and test data.\n",
    "init = tf.initialize_all_variables()\n",
    "# Test Cases\n",
    "with tf.Session() as session:\n",
    "    session.run(init)\n",
    "    #session.run(loss, feed_dict=train_feed_dict)\n",
    "    session.run(loss, feed_dict=valid_feed_dict)\n",
    "    session.run(loss, feed_dict=test_feed_dict)\n",
    "    biases_data = session.run(biases)"
   ]
  },
  {
   "cell_type": "markdown",
   "metadata": {
    "deletable": true,
    "editable": true
   },
   "source": [
    "### Question 3\n",
    "\n",
    "_What does your final architecture look like? (Type of model, layers, sizes, connectivity, etc.)  For reference on how to build a deep neural network using TensorFlow, see [Deep Neural Network in TensorFlow\n",
    "](https://classroom.udacity.com/nanodegrees/nd013/parts/fbf77062-5703-404e-b60c-95b78b2f3f9e/modules/6df7ae49-c61c-4bb2-a23e-6527e69209ec/lessons/b516a270-8600-4f93-a0a3-20dfeabe5da6/concepts/83a3a2a2-a9bd-4b7b-95b0-eb924ab14432) from the classroom._\n"
   ]
  },
  {
   "cell_type": "markdown",
   "metadata": {
    "deletable": true,
    "editable": true
   },
   "source": [
    "**Answer:**<BR>\n",
    "I have definned some support functions:\n",
    "- conv2dmaxp, a convolutional with maxpooling\n",
    "- conv2dmaxpdrop, a convolutional with maxpooling and dropout\n",
    "- fc_drop, a full connected with relu and dropout\n",
    "- lin, just a linear layer\n",
    "\n",
    "The layer used are:\n",
    "- From input to 32 5x5 convolution with 2x2 maxpooling and not dropout<BR>\n",
    "    conv1=conv2dmaxp(x    ,weights['wc1'],biases['bc1'])<BR>\n",
    "- A convolution 64 5x5 convolution with 2x2 maxpooling and dropout 0.5<BR>\n",
    "    conv2=conv2dmaxpdrop(conv1,weights['wc2'],biases['bc2'])<BR>\n",
    "- Flatten the data<BR>\n",
    "    flat = tf.reshape(conv2, [-1, shape[1] * shape[2] * shape[3]])<BR>\n",
    "- Full connected 512 with relu and dropout 0.5<BR>\n",
    "    fc1 = fc_drop(flat,weights['wd1'], biases['bd1'],dropout)<BR>\n",
    "- Full connected 256 with relu and dropout 0.5<BR>\n",
    "    fc2 = fc_drop(fc1 ,weights['wd2'], biases['bd2'],dropout)<BR>\n",
    "- Linear 43 <BR>\n",
    "    out = lin(fc2, weights['out'], biases['out'])<BR>\n",
    "\n"
   ]
  },
  {
   "cell_type": "code",
   "execution_count": 97,
   "metadata": {
    "collapsed": false,
    "deletable": true,
    "editable": true,
    "scrolled": false
   },
   "outputs": [
    {
     "name": "stderr",
     "output_type": "stream",
     "text": [
      "Epoch  1/100: 100%|██████████| 261/261 [00:10<00:00, 24.13batches/s]\n",
      "Epoch  2/100:   0%|          | 0/261 [00:00<?, ?batches/s]"
     ]
    },
    {
     "name": "stdout",
     "output_type": "stream",
     "text": [
      "Minibatch loss_val at epoch 0: 3.518262 val_accuracy=0.091527\n"
     ]
    },
    {
     "name": "stderr",
     "output_type": "stream",
     "text": [
      "Epoch  2/100: 100%|██████████| 261/261 [00:10<00:00, 25.37batches/s]\n",
      "Epoch  3/100:   0%|          | 0/261 [00:00<?, ?batches/s]"
     ]
    },
    {
     "name": "stdout",
     "output_type": "stream",
     "text": [
      "Minibatch loss_val at epoch 1: 3.038102 val_accuracy=0.206291\n"
     ]
    },
    {
     "name": "stderr",
     "output_type": "stream",
     "text": [
      "Epoch  3/100: 100%|██████████| 261/261 [00:10<00:00, 25.46batches/s]\n",
      "Epoch  4/100:   0%|          | 0/261 [00:00<?, ?batches/s]"
     ]
    },
    {
     "name": "stdout",
     "output_type": "stream",
     "text": [
      "Minibatch loss_val at epoch 2: 1.881702 val_accuracy=0.428450\n"
     ]
    },
    {
     "name": "stderr",
     "output_type": "stream",
     "text": [
      "Epoch  4/100: 100%|██████████| 261/261 [00:10<00:00, 24.80batches/s]\n",
      "Epoch  5/100:   0%|          | 0/261 [00:00<?, ?batches/s]"
     ]
    },
    {
     "name": "stdout",
     "output_type": "stream",
     "text": [
      "Minibatch loss_val at epoch 3: 1.382954 val_accuracy=0.535562\n"
     ]
    },
    {
     "name": "stderr",
     "output_type": "stream",
     "text": [
      "Epoch  5/100: 100%|██████████| 261/261 [00:10<00:00, 24.76batches/s]\n",
      "Epoch  6/100:   0%|          | 0/261 [00:00<?, ?batches/s]"
     ]
    },
    {
     "name": "stdout",
     "output_type": "stream",
     "text": [
      "Minibatch loss_val at epoch 4: 0.987904 val_accuracy=0.698215\n"
     ]
    },
    {
     "name": "stderr",
     "output_type": "stream",
     "text": [
      "Epoch  6/100: 100%|██████████| 261/261 [00:10<00:00, 24.80batches/s]\n",
      "Epoch  7/100:   0%|          | 0/261 [00:00<?, ?batches/s]"
     ]
    },
    {
     "name": "stdout",
     "output_type": "stream",
     "text": [
      "Minibatch loss_val at epoch 5: 0.641451 val_accuracy=0.807027\n"
     ]
    },
    {
     "name": "stderr",
     "output_type": "stream",
     "text": [
      "Epoch  7/100: 100%|██████████| 261/261 [00:10<00:00, 24.75batches/s]\n",
      "Epoch  8/100:   0%|          | 0/261 [00:00<?, ?batches/s]"
     ]
    },
    {
     "name": "stdout",
     "output_type": "stream",
     "text": [
      "Minibatch loss_val at epoch 6: 0.480900 val_accuracy=0.862851\n"
     ]
    },
    {
     "name": "stderr",
     "output_type": "stream",
     "text": [
      "Epoch  8/100: 100%|██████████| 261/261 [00:10<00:00, 25.14batches/s]\n",
      "Epoch  9/100:   0%|          | 0/261 [00:00<?, ?batches/s]"
     ]
    },
    {
     "name": "stdout",
     "output_type": "stream",
     "text": [
      "Minibatch loss_val at epoch 7: 0.424844 val_accuracy=0.888353\n"
     ]
    },
    {
     "name": "stderr",
     "output_type": "stream",
     "text": [
      "Epoch  9/100: 100%|██████████| 261/261 [00:10<00:00, 25.52batches/s]\n",
      "Epoch 10/100:   0%|          | 0/261 [00:00<?, ?batches/s]"
     ]
    },
    {
     "name": "stdout",
     "output_type": "stream",
     "text": [
      "Minibatch loss_val at epoch 8: 0.228789 val_accuracy=0.921224\n"
     ]
    },
    {
     "name": "stderr",
     "output_type": "stream",
     "text": [
      "Epoch 10/100: 100%|██████████| 261/261 [00:10<00:00, 24.22batches/s]\n",
      "Epoch 11/100:   0%|          | 0/261 [00:00<?, ?batches/s]"
     ]
    },
    {
     "name": "stdout",
     "output_type": "stream",
     "text": [
      "Minibatch loss_val at epoch 9: 0.264470 val_accuracy=0.933975\n"
     ]
    },
    {
     "name": "stderr",
     "output_type": "stream",
     "text": [
      "Epoch 11/100: 100%|██████████| 261/261 [00:10<00:00, 25.29batches/s]\n",
      "Epoch 12/100:   0%|          | 0/261 [00:00<?, ?batches/s]"
     ]
    },
    {
     "name": "stdout",
     "output_type": "stream",
     "text": [
      "Minibatch loss_val at epoch 10: 0.192997 val_accuracy=0.946727\n"
     ]
    },
    {
     "name": "stderr",
     "output_type": "stream",
     "text": [
      "Epoch 12/100: 100%|██████████| 261/261 [00:10<00:00, 22.24batches/s]\n",
      "Epoch 13/100:   0%|          | 0/261 [00:00<?, ?batches/s]"
     ]
    },
    {
     "name": "stdout",
     "output_type": "stream",
     "text": [
      "Minibatch loss_val at epoch 11: 0.153922 val_accuracy=0.951261\n"
     ]
    },
    {
     "name": "stderr",
     "output_type": "stream",
     "text": [
      "Epoch 13/100: 100%|██████████| 261/261 [00:10<00:00, 25.42batches/s]\n",
      "Epoch 14/100:   0%|          | 0/261 [00:00<?, ?batches/s]"
     ]
    },
    {
     "name": "stdout",
     "output_type": "stream",
     "text": [
      "Minibatch loss_val at epoch 12: 0.143337 val_accuracy=0.961179\n"
     ]
    },
    {
     "name": "stderr",
     "output_type": "stream",
     "text": [
      "Epoch 14/100: 100%|██████████| 261/261 [00:10<00:00, 25.20batches/s]\n",
      "Epoch 15/100:   0%|          | 0/261 [00:00<?, ?batches/s]"
     ]
    },
    {
     "name": "stdout",
     "output_type": "stream",
     "text": [
      "Minibatch loss_val at epoch 13: 0.101600 val_accuracy=0.960329\n"
     ]
    },
    {
     "name": "stderr",
     "output_type": "stream",
     "text": [
      "Epoch 15/100: 100%|██████████| 261/261 [00:10<00:00, 24.22batches/s]\n",
      "Epoch 16/100:   0%|          | 0/261 [00:00<?, ?batches/s]"
     ]
    },
    {
     "name": "stdout",
     "output_type": "stream",
     "text": [
      "Minibatch loss_val at epoch 14: 0.121237 val_accuracy=0.967980\n"
     ]
    },
    {
     "name": "stderr",
     "output_type": "stream",
     "text": [
      "Epoch 16/100: 100%|██████████| 261/261 [00:10<00:00, 25.32batches/s]\n",
      "Epoch 17/100:   0%|          | 0/261 [00:00<?, ?batches/s]"
     ]
    },
    {
     "name": "stdout",
     "output_type": "stream",
     "text": [
      "Minibatch loss_val at epoch 15: 0.070661 val_accuracy=0.968546\n"
     ]
    },
    {
     "name": "stderr",
     "output_type": "stream",
     "text": [
      "Epoch 17/100: 100%|██████████| 261/261 [00:10<00:00, 25.34batches/s]\n",
      "Epoch 18/100:   0%|          | 0/261 [00:00<?, ?batches/s]"
     ]
    },
    {
     "name": "stdout",
     "output_type": "stream",
     "text": [
      "Minibatch loss_val at epoch 16: 0.121336 val_accuracy=0.973080\n"
     ]
    },
    {
     "name": "stderr",
     "output_type": "stream",
     "text": [
      "Epoch 18/100: 100%|██████████| 261/261 [00:10<00:00, 25.54batches/s]\n",
      "Epoch 19/100:   0%|          | 0/261 [00:00<?, ?batches/s]"
     ]
    },
    {
     "name": "stdout",
     "output_type": "stream",
     "text": [
      "Minibatch loss_val at epoch 17: 0.038940 val_accuracy=0.970813\n"
     ]
    },
    {
     "name": "stderr",
     "output_type": "stream",
     "text": [
      "Epoch 19/100: 100%|██████████| 261/261 [00:10<00:00, 25.54batches/s]\n",
      "Epoch 20/100:   0%|          | 0/261 [00:00<?, ?batches/s]"
     ]
    },
    {
     "name": "stdout",
     "output_type": "stream",
     "text": [
      "Minibatch loss_val at epoch 18: 0.115406 val_accuracy=0.971947\n"
     ]
    },
    {
     "name": "stderr",
     "output_type": "stream",
     "text": [
      "Epoch 20/100: 100%|██████████| 261/261 [00:10<00:00, 25.65batches/s]\n",
      "Epoch 21/100:   0%|          | 0/261 [00:00<?, ?batches/s]"
     ]
    },
    {
     "name": "stdout",
     "output_type": "stream",
     "text": [
      "Minibatch loss_val at epoch 19: 0.048330 val_accuracy=0.952394\n"
     ]
    },
    {
     "name": "stderr",
     "output_type": "stream",
     "text": [
      "Epoch 21/100: 100%|██████████| 261/261 [00:10<00:00, 24.28batches/s]\n",
      "Epoch 22/100:   0%|          | 0/261 [00:00<?, ?batches/s]"
     ]
    },
    {
     "name": "stdout",
     "output_type": "stream",
     "text": [
      "Minibatch loss_val at epoch 20: 0.035968 val_accuracy=0.974214\n"
     ]
    },
    {
     "name": "stderr",
     "output_type": "stream",
     "text": [
      "Epoch 22/100: 100%|██████████| 261/261 [00:10<00:00, 24.92batches/s]\n",
      "Epoch 23/100:   0%|          | 0/261 [00:00<?, ?batches/s]"
     ]
    },
    {
     "name": "stdout",
     "output_type": "stream",
     "text": [
      "Minibatch loss_val at epoch 21: 0.053883 val_accuracy=0.981581\n"
     ]
    },
    {
     "name": "stderr",
     "output_type": "stream",
     "text": [
      "Epoch 23/100: 100%|██████████| 261/261 [00:10<00:00, 25.26batches/s]\n",
      "Epoch 24/100:   0%|          | 0/261 [00:00<?, ?batches/s]"
     ]
    },
    {
     "name": "stdout",
     "output_type": "stream",
     "text": [
      "Minibatch loss_val at epoch 22: 0.033233 val_accuracy=0.980731\n"
     ]
    },
    {
     "name": "stderr",
     "output_type": "stream",
     "text": [
      "Epoch 24/100: 100%|██████████| 261/261 [00:10<00:00, 24.33batches/s]\n",
      "Epoch 25/100:   0%|          | 0/261 [00:00<?, ?batches/s]"
     ]
    },
    {
     "name": "stdout",
     "output_type": "stream",
     "text": [
      "Minibatch loss_val at epoch 23: 0.058769 val_accuracy=0.981581\n"
     ]
    },
    {
     "name": "stderr",
     "output_type": "stream",
     "text": [
      "Epoch 25/100: 100%|██████████| 261/261 [00:10<00:00, 25.30batches/s]\n",
      "Epoch 26/100:   0%|          | 0/261 [00:00<?, ?batches/s]"
     ]
    },
    {
     "name": "stdout",
     "output_type": "stream",
     "text": [
      "Minibatch loss_val at epoch 24: 0.011243 val_accuracy=0.978181\n"
     ]
    },
    {
     "name": "stderr",
     "output_type": "stream",
     "text": [
      "Epoch 26/100: 100%|██████████| 261/261 [00:10<00:00, 25.25batches/s]\n",
      "Epoch 27/100:   0%|          | 0/261 [00:00<?, ?batches/s]"
     ]
    },
    {
     "name": "stdout",
     "output_type": "stream",
     "text": [
      "Minibatch loss_val at epoch 25: 0.057120 val_accuracy=0.986398\n"
     ]
    },
    {
     "name": "stderr",
     "output_type": "stream",
     "text": [
      "Epoch 27/100: 100%|██████████| 261/261 [00:10<00:00, 25.20batches/s]\n",
      "Epoch 28/100:   0%|          | 0/261 [00:00<?, ?batches/s]"
     ]
    },
    {
     "name": "stdout",
     "output_type": "stream",
     "text": [
      "Minibatch loss_val at epoch 26: 0.040145 val_accuracy=0.985265\n"
     ]
    },
    {
     "name": "stderr",
     "output_type": "stream",
     "text": [
      "Epoch 28/100: 100%|██████████| 261/261 [00:10<00:00, 24.13batches/s]\n",
      "Epoch 29/100:   0%|          | 0/261 [00:00<?, ?batches/s]"
     ]
    },
    {
     "name": "stdout",
     "output_type": "stream",
     "text": [
      "Minibatch loss_val at epoch 27: 0.033424 val_accuracy=0.986965\n"
     ]
    },
    {
     "name": "stderr",
     "output_type": "stream",
     "text": [
      "Epoch 29/100: 100%|██████████| 261/261 [00:11<00:00, 23.26batches/s]\n",
      "Epoch 30/100:   0%|          | 0/261 [00:00<?, ?batches/s]"
     ]
    },
    {
     "name": "stdout",
     "output_type": "stream",
     "text": [
      "Minibatch loss_val at epoch 28: 0.030559 val_accuracy=0.980731\n"
     ]
    },
    {
     "name": "stderr",
     "output_type": "stream",
     "text": [
      "Epoch 30/100: 100%|██████████| 261/261 [00:11<00:00, 23.34batches/s]\n",
      "Epoch 31/100:   0%|          | 0/261 [00:00<?, ?batches/s]"
     ]
    },
    {
     "name": "stdout",
     "output_type": "stream",
     "text": [
      "Minibatch loss_val at epoch 29: 0.018666 val_accuracy=0.984415\n"
     ]
    },
    {
     "name": "stderr",
     "output_type": "stream",
     "text": [
      "Epoch 31/100: 100%|██████████| 261/261 [00:10<00:00, 24.41batches/s]\n",
      "Epoch 32/100:   0%|          | 0/261 [00:00<?, ?batches/s]"
     ]
    },
    {
     "name": "stdout",
     "output_type": "stream",
     "text": [
      "Minibatch loss_val at epoch 30: 0.011938 val_accuracy=0.985832\n"
     ]
    },
    {
     "name": "stderr",
     "output_type": "stream",
     "text": [
      "Epoch 32/100: 100%|██████████| 261/261 [00:10<00:00, 24.00batches/s]\n",
      "Epoch 33/100:   0%|          | 0/261 [00:00<?, ?batches/s]"
     ]
    },
    {
     "name": "stdout",
     "output_type": "stream",
     "text": [
      "Minibatch loss_val at epoch 31: 0.051346 val_accuracy=0.985265\n"
     ]
    },
    {
     "name": "stderr",
     "output_type": "stream",
     "text": [
      "Epoch 33/100: 100%|██████████| 261/261 [00:10<00:00, 24.08batches/s]\n",
      "Epoch 34/100:   0%|          | 0/261 [00:00<?, ?batches/s]"
     ]
    },
    {
     "name": "stdout",
     "output_type": "stream",
     "text": [
      "Minibatch loss_val at epoch 32: 0.031145 val_accuracy=0.981581\n"
     ]
    },
    {
     "name": "stderr",
     "output_type": "stream",
     "text": [
      "Epoch 34/100: 100%|██████████| 261/261 [00:10<00:00, 24.14batches/s]\n",
      "Epoch 35/100:   0%|          | 0/261 [00:00<?, ?batches/s]"
     ]
    },
    {
     "name": "stdout",
     "output_type": "stream",
     "text": [
      "Minibatch loss_val at epoch 33: 0.020623 val_accuracy=0.980164\n"
     ]
    },
    {
     "name": "stderr",
     "output_type": "stream",
     "text": [
      "Epoch 35/100: 100%|██████████| 261/261 [00:10<00:00, 24.03batches/s]\n",
      "Epoch 36/100:   0%|          | 0/261 [00:00<?, ?batches/s]"
     ]
    },
    {
     "name": "stdout",
     "output_type": "stream",
     "text": [
      "Minibatch loss_val at epoch 34: 0.006976 val_accuracy=0.986115\n"
     ]
    },
    {
     "name": "stderr",
     "output_type": "stream",
     "text": [
      "Epoch 36/100: 100%|██████████| 261/261 [00:10<00:00, 23.87batches/s]\n",
      "Epoch 37/100:   0%|          | 0/261 [00:00<?, ?batches/s]"
     ]
    },
    {
     "name": "stdout",
     "output_type": "stream",
     "text": [
      "Minibatch loss_val at epoch 35: 0.029282 val_accuracy=0.990082\n"
     ]
    },
    {
     "name": "stderr",
     "output_type": "stream",
     "text": [
      "Epoch 37/100: 100%|██████████| 261/261 [00:10<00:00, 24.03batches/s]\n",
      "Epoch 38/100:   0%|          | 0/261 [00:00<?, ?batches/s]"
     ]
    },
    {
     "name": "stdout",
     "output_type": "stream",
     "text": [
      "Minibatch loss_val at epoch 36: 0.029987 val_accuracy=0.988099\n"
     ]
    },
    {
     "name": "stderr",
     "output_type": "stream",
     "text": [
      "Epoch 38/100: 100%|██████████| 261/261 [00:10<00:00, 23.80batches/s]\n",
      "Epoch 39/100:   0%|          | 0/261 [00:00<?, ?batches/s]"
     ]
    },
    {
     "name": "stdout",
     "output_type": "stream",
     "text": [
      "Minibatch loss_val at epoch 37: 0.011094 val_accuracy=0.986115\n"
     ]
    },
    {
     "name": "stderr",
     "output_type": "stream",
     "text": [
      "Epoch 39/100: 100%|██████████| 261/261 [00:10<00:00, 23.94batches/s]\n",
      "Epoch 40/100:   0%|          | 0/261 [00:00<?, ?batches/s]"
     ]
    },
    {
     "name": "stdout",
     "output_type": "stream",
     "text": [
      "Minibatch loss_val at epoch 38: 0.013349 val_accuracy=0.984131\n"
     ]
    },
    {
     "name": "stderr",
     "output_type": "stream",
     "text": [
      "Epoch 40/100: 100%|██████████| 261/261 [00:10<00:00, 24.02batches/s]\n",
      "Epoch 41/100:   0%|          | 0/261 [00:00<?, ?batches/s]"
     ]
    },
    {
     "name": "stdout",
     "output_type": "stream",
     "text": [
      "Minibatch loss_val at epoch 39: 0.003468 val_accuracy=0.988382\n"
     ]
    },
    {
     "name": "stderr",
     "output_type": "stream",
     "text": [
      "Epoch 41/100: 100%|██████████| 261/261 [00:10<00:00, 23.95batches/s]\n",
      "Epoch 42/100:   0%|          | 0/261 [00:00<?, ?batches/s]"
     ]
    },
    {
     "name": "stdout",
     "output_type": "stream",
     "text": [
      "Minibatch loss_val at epoch 40: 0.021435 val_accuracy=0.983281\n"
     ]
    },
    {
     "name": "stderr",
     "output_type": "stream",
     "text": [
      "Epoch 42/100: 100%|██████████| 261/261 [00:10<00:00, 24.12batches/s]\n",
      "Epoch 43/100:   0%|          | 0/261 [00:00<?, ?batches/s]"
     ]
    },
    {
     "name": "stdout",
     "output_type": "stream",
     "text": [
      "Minibatch loss_val at epoch 41: 0.008873 val_accuracy=0.983565\n"
     ]
    },
    {
     "name": "stderr",
     "output_type": "stream",
     "text": [
      "Epoch 43/100: 100%|██████████| 261/261 [00:10<00:00, 24.05batches/s]\n",
      "Epoch 44/100:   0%|          | 0/261 [00:00<?, ?batches/s]"
     ]
    },
    {
     "name": "stdout",
     "output_type": "stream",
     "text": [
      "Minibatch loss_val at epoch 42: 0.026093 val_accuracy=0.984131\n"
     ]
    },
    {
     "name": "stderr",
     "output_type": "stream",
     "text": [
      "Epoch 44/100: 100%|██████████| 261/261 [00:10<00:00, 23.88batches/s]\n",
      "Epoch 45/100:   0%|          | 0/261 [00:00<?, ?batches/s]"
     ]
    },
    {
     "name": "stdout",
     "output_type": "stream",
     "text": [
      "Minibatch loss_val at epoch 43: 0.013915 val_accuracy=0.984698\n"
     ]
    },
    {
     "name": "stderr",
     "output_type": "stream",
     "text": [
      "Epoch 45/100: 100%|██████████| 261/261 [00:10<00:00, 25.22batches/s]\n",
      "Epoch 46/100:   0%|          | 0/261 [00:00<?, ?batches/s]"
     ]
    },
    {
     "name": "stdout",
     "output_type": "stream",
     "text": [
      "Minibatch loss_val at epoch 44: 0.013466 val_accuracy=0.985832\n"
     ]
    },
    {
     "name": "stderr",
     "output_type": "stream",
     "text": [
      "Epoch 46/100: 100%|██████████| 261/261 [00:10<00:00, 24.30batches/s]\n",
      "Epoch 47/100:   0%|          | 0/261 [00:00<?, ?batches/s]"
     ]
    },
    {
     "name": "stdout",
     "output_type": "stream",
     "text": [
      "Minibatch loss_val at epoch 45: 0.001019 val_accuracy=0.987532\n"
     ]
    },
    {
     "name": "stderr",
     "output_type": "stream",
     "text": [
      "Epoch 47/100: 100%|██████████| 261/261 [00:10<00:00, 25.61batches/s]\n",
      "Epoch 48/100:   0%|          | 0/261 [00:00<?, ?batches/s]"
     ]
    },
    {
     "name": "stdout",
     "output_type": "stream",
     "text": [
      "Minibatch loss_val at epoch 46: 0.001303 val_accuracy=0.986965\n"
     ]
    },
    {
     "name": "stderr",
     "output_type": "stream",
     "text": [
      "Epoch 48/100: 100%|██████████| 261/261 [00:10<00:00, 24.17batches/s]\n",
      "Epoch 49/100:   0%|          | 0/261 [00:00<?, ?batches/s]"
     ]
    },
    {
     "name": "stdout",
     "output_type": "stream",
     "text": [
      "Minibatch loss_val at epoch 47: 0.016882 val_accuracy=0.986398\n"
     ]
    },
    {
     "name": "stderr",
     "output_type": "stream",
     "text": [
      "Epoch 49/100: 100%|██████████| 261/261 [00:10<00:00, 25.13batches/s]\n",
      "Epoch 50/100:   0%|          | 0/261 [00:00<?, ?batches/s]"
     ]
    },
    {
     "name": "stdout",
     "output_type": "stream",
     "text": [
      "Minibatch loss_val at epoch 48: 0.025383 val_accuracy=0.988099\n"
     ]
    },
    {
     "name": "stderr",
     "output_type": "stream",
     "text": [
      "Epoch 50/100: 100%|██████████| 261/261 [00:10<00:00, 24.67batches/s]\n",
      "Epoch 51/100:   0%|          | 0/261 [00:00<?, ?batches/s]"
     ]
    },
    {
     "name": "stdout",
     "output_type": "stream",
     "text": [
      "Minibatch loss_val at epoch 49: 0.050770 val_accuracy=0.986398\n"
     ]
    },
    {
     "name": "stderr",
     "output_type": "stream",
     "text": [
      "Epoch 51/100: 100%|██████████| 261/261 [00:10<00:00, 25.68batches/s]\n",
      "Epoch 52/100:   0%|          | 0/261 [00:00<?, ?batches/s]"
     ]
    },
    {
     "name": "stdout",
     "output_type": "stream",
     "text": [
      "Minibatch loss_val at epoch 50: 0.003133 val_accuracy=0.988099\n"
     ]
    },
    {
     "name": "stderr",
     "output_type": "stream",
     "text": [
      "Epoch 52/100: 100%|██████████| 261/261 [00:10<00:00, 25.68batches/s]\n",
      "Epoch 53/100:   0%|          | 0/261 [00:00<?, ?batches/s]"
     ]
    },
    {
     "name": "stdout",
     "output_type": "stream",
     "text": [
      "Minibatch loss_val at epoch 51: 0.064771 val_accuracy=0.988382\n"
     ]
    },
    {
     "name": "stderr",
     "output_type": "stream",
     "text": [
      "Epoch 53/100: 100%|██████████| 261/261 [00:10<00:00, 25.40batches/s]\n",
      "Epoch 54/100:   0%|          | 0/261 [00:00<?, ?batches/s]"
     ]
    },
    {
     "name": "stdout",
     "output_type": "stream",
     "text": [
      "Minibatch loss_val at epoch 52: 0.008544 val_accuracy=0.987815\n"
     ]
    },
    {
     "name": "stderr",
     "output_type": "stream",
     "text": [
      "Epoch 54/100: 100%|██████████| 261/261 [00:10<00:00, 24.49batches/s]\n",
      "Epoch 55/100:   0%|          | 0/261 [00:00<?, ?batches/s]"
     ]
    },
    {
     "name": "stdout",
     "output_type": "stream",
     "text": [
      "Minibatch loss_val at epoch 53: 0.001078 val_accuracy=0.988382\n"
     ]
    },
    {
     "name": "stderr",
     "output_type": "stream",
     "text": [
      "Epoch 55/100: 100%|██████████| 261/261 [00:10<00:00, 25.17batches/s]\n",
      "Epoch 56/100:   0%|          | 0/261 [00:00<?, ?batches/s]"
     ]
    },
    {
     "name": "stdout",
     "output_type": "stream",
     "text": [
      "Minibatch loss_val at epoch 54: 0.010081 val_accuracy=0.984131\n"
     ]
    },
    {
     "name": "stderr",
     "output_type": "stream",
     "text": [
      "Epoch 56/100: 100%|██████████| 261/261 [00:10<00:00, 24.41batches/s]\n",
      "Epoch 57/100:   0%|          | 0/261 [00:00<?, ?batches/s]"
     ]
    },
    {
     "name": "stdout",
     "output_type": "stream",
     "text": [
      "Minibatch loss_val at epoch 55: 0.038577 val_accuracy=0.990649\n"
     ]
    },
    {
     "name": "stderr",
     "output_type": "stream",
     "text": [
      "Epoch 57/100: 100%|██████████| 261/261 [00:10<00:00, 25.20batches/s]\n",
      "Epoch 58/100:   0%|          | 0/261 [00:00<?, ?batches/s]"
     ]
    },
    {
     "name": "stdout",
     "output_type": "stream",
     "text": [
      "Minibatch loss_val at epoch 56: 0.009794 val_accuracy=0.987815\n"
     ]
    },
    {
     "name": "stderr",
     "output_type": "stream",
     "text": [
      "Epoch 58/100: 100%|██████████| 261/261 [00:10<00:00, 25.47batches/s]\n",
      "Epoch 59/100:   0%|          | 0/261 [00:00<?, ?batches/s]"
     ]
    },
    {
     "name": "stdout",
     "output_type": "stream",
     "text": [
      "Minibatch loss_val at epoch 57: 0.007950 val_accuracy=0.981864\n"
     ]
    },
    {
     "name": "stderr",
     "output_type": "stream",
     "text": [
      "Epoch 59/100: 100%|██████████| 261/261 [00:10<00:00, 25.66batches/s]\n",
      "Epoch 60/100:   0%|          | 0/261 [00:00<?, ?batches/s]"
     ]
    },
    {
     "name": "stdout",
     "output_type": "stream",
     "text": [
      "Minibatch loss_val at epoch 58: 0.001975 val_accuracy=0.990082\n"
     ]
    },
    {
     "name": "stderr",
     "output_type": "stream",
     "text": [
      "Epoch 60/100: 100%|██████████| 261/261 [00:10<00:00, 24.38batches/s]\n",
      "Epoch 61/100:   0%|          | 0/261 [00:00<?, ?batches/s]"
     ]
    },
    {
     "name": "stdout",
     "output_type": "stream",
     "text": [
      "Minibatch loss_val at epoch 59: 0.000249 val_accuracy=0.986965\n"
     ]
    },
    {
     "name": "stderr",
     "output_type": "stream",
     "text": [
      "Epoch 61/100: 100%|██████████| 261/261 [00:10<00:00, 25.37batches/s]\n",
      "Epoch 62/100:   0%|          | 0/261 [00:00<?, ?batches/s]"
     ]
    },
    {
     "name": "stdout",
     "output_type": "stream",
     "text": [
      "Minibatch loss_val at epoch 60: 0.000148 val_accuracy=0.980731\n"
     ]
    },
    {
     "name": "stderr",
     "output_type": "stream",
     "text": [
      "Epoch 62/100: 100%|██████████| 261/261 [00:10<00:00, 25.51batches/s]\n",
      "Epoch 63/100:   0%|          | 0/261 [00:00<?, ?batches/s]"
     ]
    },
    {
     "name": "stdout",
     "output_type": "stream",
     "text": [
      "Minibatch loss_val at epoch 61: 0.003161 val_accuracy=0.988949\n"
     ]
    },
    {
     "name": "stderr",
     "output_type": "stream",
     "text": [
      "Epoch 63/100: 100%|██████████| 261/261 [00:10<00:00, 25.53batches/s]\n",
      "Epoch 64/100:   0%|          | 0/261 [00:00<?, ?batches/s]"
     ]
    },
    {
     "name": "stdout",
     "output_type": "stream",
     "text": [
      "Minibatch loss_val at epoch 62: 0.010960 val_accuracy=0.978464\n"
     ]
    },
    {
     "name": "stderr",
     "output_type": "stream",
     "text": [
      "Epoch 64/100: 100%|██████████| 261/261 [00:10<00:00, 23.97batches/s]\n",
      "Epoch 65/100:   0%|          | 0/261 [00:00<?, ?batches/s]"
     ]
    },
    {
     "name": "stdout",
     "output_type": "stream",
     "text": [
      "Minibatch loss_val at epoch 63: 0.010731 val_accuracy=0.989515\n"
     ]
    },
    {
     "name": "stderr",
     "output_type": "stream",
     "text": [
      "Epoch 65/100: 100%|██████████| 261/261 [00:10<00:00, 25.44batches/s]\n",
      "Epoch 66/100:   0%|          | 0/261 [00:00<?, ?batches/s]"
     ]
    },
    {
     "name": "stdout",
     "output_type": "stream",
     "text": [
      "Minibatch loss_val at epoch 64: 0.001611 val_accuracy=0.986398\n"
     ]
    },
    {
     "name": "stderr",
     "output_type": "stream",
     "text": [
      "Epoch 66/100: 100%|██████████| 261/261 [00:10<00:00, 25.49batches/s]\n",
      "Epoch 67/100:   0%|          | 0/261 [00:00<?, ?batches/s]"
     ]
    },
    {
     "name": "stdout",
     "output_type": "stream",
     "text": [
      "Minibatch loss_val at epoch 65: 0.023590 val_accuracy=0.986965\n"
     ]
    },
    {
     "name": "stderr",
     "output_type": "stream",
     "text": [
      "Epoch 67/100: 100%|██████████| 261/261 [00:10<00:00, 25.33batches/s]\n",
      "Epoch 68/100:   0%|          | 0/261 [00:00<?, ?batches/s]"
     ]
    },
    {
     "name": "stdout",
     "output_type": "stream",
     "text": [
      "Minibatch loss_val at epoch 66: 0.003311 val_accuracy=0.988099\n"
     ]
    },
    {
     "name": "stderr",
     "output_type": "stream",
     "text": [
      "Epoch 68/100: 100%|██████████| 261/261 [00:10<00:00, 25.72batches/s]\n",
      "Epoch 69/100:   0%|          | 0/261 [00:00<?, ?batches/s]"
     ]
    },
    {
     "name": "stdout",
     "output_type": "stream",
     "text": [
      "Minibatch loss_val at epoch 67: 0.000358 val_accuracy=0.991499\n"
     ]
    },
    {
     "name": "stderr",
     "output_type": "stream",
     "text": [
      "Epoch 69/100: 100%|██████████| 261/261 [00:10<00:00, 25.74batches/s]\n",
      "Epoch 70/100:   0%|          | 0/261 [00:00<?, ?batches/s]"
     ]
    },
    {
     "name": "stdout",
     "output_type": "stream",
     "text": [
      "Minibatch loss_val at epoch 68: 0.009456 val_accuracy=0.990082\n"
     ]
    },
    {
     "name": "stderr",
     "output_type": "stream",
     "text": [
      "Epoch 70/100: 100%|██████████| 261/261 [00:10<00:00, 25.79batches/s]\n",
      "Epoch 71/100:   0%|          | 0/261 [00:00<?, ?batches/s]"
     ]
    },
    {
     "name": "stdout",
     "output_type": "stream",
     "text": [
      "Minibatch loss_val at epoch 69: 0.000112 val_accuracy=0.982998\n"
     ]
    },
    {
     "name": "stderr",
     "output_type": "stream",
     "text": [
      "Epoch 71/100: 100%|██████████| 261/261 [00:10<00:00, 25.47batches/s]\n",
      "Epoch 72/100:   0%|          | 0/261 [00:00<?, ?batches/s]"
     ]
    },
    {
     "name": "stdout",
     "output_type": "stream",
     "text": [
      "Minibatch loss_val at epoch 70: 0.000878 val_accuracy=0.988949\n"
     ]
    },
    {
     "name": "stderr",
     "output_type": "stream",
     "text": [
      "Epoch 72/100: 100%|██████████| 261/261 [00:10<00:00, 25.57batches/s]\n",
      "Epoch 73/100:   0%|          | 0/261 [00:00<?, ?batches/s]"
     ]
    },
    {
     "name": "stdout",
     "output_type": "stream",
     "text": [
      "Minibatch loss_val at epoch 71: 0.023740 val_accuracy=0.986682\n"
     ]
    },
    {
     "name": "stderr",
     "output_type": "stream",
     "text": [
      "Epoch 73/100: 100%|██████████| 261/261 [00:10<00:00, 25.63batches/s]\n",
      "Epoch 74/100:   0%|          | 0/261 [00:00<?, ?batches/s]"
     ]
    },
    {
     "name": "stdout",
     "output_type": "stream",
     "text": [
      "Minibatch loss_val at epoch 72: 0.000414 val_accuracy=0.988382\n"
     ]
    },
    {
     "name": "stderr",
     "output_type": "stream",
     "text": [
      "Epoch 74/100: 100%|██████████| 261/261 [00:10<00:00, 24.48batches/s]\n",
      "Epoch 75/100:   0%|          | 0/261 [00:00<?, ?batches/s]"
     ]
    },
    {
     "name": "stdout",
     "output_type": "stream",
     "text": [
      "Minibatch loss_val at epoch 73: 0.020801 val_accuracy=0.987248\n"
     ]
    },
    {
     "name": "stderr",
     "output_type": "stream",
     "text": [
      "Epoch 75/100: 100%|██████████| 261/261 [00:10<00:00, 25.97batches/s]\n",
      "Epoch 76/100:   0%|          | 0/261 [00:00<?, ?batches/s]"
     ]
    },
    {
     "name": "stdout",
     "output_type": "stream",
     "text": [
      "Minibatch loss_val at epoch 74: 0.013780 val_accuracy=0.991782\n"
     ]
    },
    {
     "name": "stderr",
     "output_type": "stream",
     "text": [
      "Epoch 76/100: 100%|██████████| 261/261 [00:10<00:00, 25.86batches/s]\n",
      "Epoch 77/100:   0%|          | 0/261 [00:00<?, ?batches/s]"
     ]
    },
    {
     "name": "stdout",
     "output_type": "stream",
     "text": [
      "Minibatch loss_val at epoch 75: 0.015287 val_accuracy=0.987532\n"
     ]
    },
    {
     "name": "stderr",
     "output_type": "stream",
     "text": [
      "Epoch 77/100: 100%|██████████| 261/261 [00:10<00:00, 25.89batches/s]\n",
      "Epoch 78/100:   0%|          | 0/261 [00:00<?, ?batches/s]"
     ]
    },
    {
     "name": "stdout",
     "output_type": "stream",
     "text": [
      "Minibatch loss_val at epoch 76: 0.037745 val_accuracy=0.989515\n"
     ]
    },
    {
     "name": "stderr",
     "output_type": "stream",
     "text": [
      "Epoch 78/100: 100%|██████████| 261/261 [00:10<00:00, 25.62batches/s]\n",
      "Epoch 79/100:   0%|          | 0/261 [00:00<?, ?batches/s]"
     ]
    },
    {
     "name": "stdout",
     "output_type": "stream",
     "text": [
      "Minibatch loss_val at epoch 77: 0.002465 val_accuracy=0.965996\n"
     ]
    },
    {
     "name": "stderr",
     "output_type": "stream",
     "text": [
      "Epoch 79/100: 100%|██████████| 261/261 [00:10<00:00, 25.74batches/s]\n",
      "Epoch 80/100:   0%|          | 0/261 [00:00<?, ?batches/s]"
     ]
    },
    {
     "name": "stdout",
     "output_type": "stream",
     "text": [
      "Minibatch loss_val at epoch 78: 0.090378 val_accuracy=0.990082\n"
     ]
    },
    {
     "name": "stderr",
     "output_type": "stream",
     "text": [
      "Epoch 80/100: 100%|██████████| 261/261 [00:10<00:00, 25.81batches/s]\n",
      "Epoch 81/100:   0%|          | 0/261 [00:00<?, ?batches/s]"
     ]
    },
    {
     "name": "stdout",
     "output_type": "stream",
     "text": [
      "Minibatch loss_val at epoch 79: 0.006545 val_accuracy=0.988949\n"
     ]
    },
    {
     "name": "stderr",
     "output_type": "stream",
     "text": [
      "Epoch 81/100: 100%|██████████| 261/261 [00:10<00:00, 25.22batches/s]\n",
      "Epoch 82/100:   0%|          | 0/261 [00:00<?, ?batches/s]"
     ]
    },
    {
     "name": "stdout",
     "output_type": "stream",
     "text": [
      "Minibatch loss_val at epoch 80: 0.012582 val_accuracy=0.986115\n"
     ]
    },
    {
     "name": "stderr",
     "output_type": "stream",
     "text": [
      "Epoch 82/100: 100%|██████████| 261/261 [00:10<00:00, 25.61batches/s]\n",
      "Epoch 83/100:   0%|          | 0/261 [00:00<?, ?batches/s]"
     ]
    },
    {
     "name": "stdout",
     "output_type": "stream",
     "text": [
      "Minibatch loss_val at epoch 81: 0.045339 val_accuracy=0.992349\n"
     ]
    },
    {
     "name": "stderr",
     "output_type": "stream",
     "text": [
      "Epoch 83/100: 100%|██████████| 261/261 [00:10<00:00, 24.28batches/s]\n",
      "Epoch 84/100:   0%|          | 0/261 [00:00<?, ?batches/s]"
     ]
    },
    {
     "name": "stdout",
     "output_type": "stream",
     "text": [
      "Minibatch loss_val at epoch 82: 0.006966 val_accuracy=0.989799\n"
     ]
    },
    {
     "name": "stderr",
     "output_type": "stream",
     "text": [
      "Epoch 84/100: 100%|██████████| 261/261 [00:10<00:00, 25.72batches/s]\n",
      "Epoch 85/100:   0%|          | 0/261 [00:00<?, ?batches/s]"
     ]
    },
    {
     "name": "stdout",
     "output_type": "stream",
     "text": [
      "Minibatch loss_val at epoch 83: 0.006726 val_accuracy=0.990932\n"
     ]
    },
    {
     "name": "stderr",
     "output_type": "stream",
     "text": [
      "Epoch 85/100: 100%|██████████| 261/261 [00:10<00:00, 25.79batches/s]\n",
      "Epoch 86/100:   0%|          | 0/261 [00:00<?, ?batches/s]"
     ]
    },
    {
     "name": "stdout",
     "output_type": "stream",
     "text": [
      "Minibatch loss_val at epoch 84: 0.000423 val_accuracy=0.991782\n"
     ]
    },
    {
     "name": "stderr",
     "output_type": "stream",
     "text": [
      "Epoch 86/100: 100%|██████████| 261/261 [00:10<00:00, 25.88batches/s]\n",
      "Epoch 87/100:   0%|          | 0/261 [00:00<?, ?batches/s]"
     ]
    },
    {
     "name": "stdout",
     "output_type": "stream",
     "text": [
      "Minibatch loss_val at epoch 85: 0.034692 val_accuracy=0.988382\n"
     ]
    },
    {
     "name": "stderr",
     "output_type": "stream",
     "text": [
      "Epoch 87/100: 100%|██████████| 261/261 [00:10<00:00, 25.11batches/s]\n",
      "Epoch 88/100:   0%|          | 0/261 [00:00<?, ?batches/s]"
     ]
    },
    {
     "name": "stdout",
     "output_type": "stream",
     "text": [
      "Minibatch loss_val at epoch 86: 0.012386 val_accuracy=0.992632\n"
     ]
    },
    {
     "name": "stderr",
     "output_type": "stream",
     "text": [
      "Epoch 88/100: 100%|██████████| 261/261 [00:10<00:00, 25.70batches/s]\n",
      "Epoch 89/100:   0%|          | 0/261 [00:00<?, ?batches/s]"
     ]
    },
    {
     "name": "stdout",
     "output_type": "stream",
     "text": [
      "Minibatch loss_val at epoch 87: 0.003858 val_accuracy=0.991216\n"
     ]
    },
    {
     "name": "stderr",
     "output_type": "stream",
     "text": [
      "Epoch 89/100: 100%|██████████| 261/261 [00:10<00:00, 25.79batches/s]\n",
      "Epoch 90/100:   0%|          | 0/261 [00:00<?, ?batches/s]"
     ]
    },
    {
     "name": "stdout",
     "output_type": "stream",
     "text": [
      "Minibatch loss_val at epoch 88: 0.010453 val_accuracy=0.991499\n"
     ]
    },
    {
     "name": "stderr",
     "output_type": "stream",
     "text": [
      "Epoch 90/100: 100%|██████████| 261/261 [00:10<00:00, 22.06batches/s]\n",
      "Epoch 91/100:   0%|          | 0/261 [00:00<?, ?batches/s]"
     ]
    },
    {
     "name": "stdout",
     "output_type": "stream",
     "text": [
      "Minibatch loss_val at epoch 89: 0.003314 val_accuracy=0.987532\n"
     ]
    },
    {
     "name": "stderr",
     "output_type": "stream",
     "text": [
      "Epoch 91/100: 100%|██████████| 261/261 [00:10<00:00, 25.41batches/s]\n",
      "Epoch 92/100:   0%|          | 0/261 [00:00<?, ?batches/s]"
     ]
    },
    {
     "name": "stdout",
     "output_type": "stream",
     "text": [
      "Minibatch loss_val at epoch 90: 0.000457 val_accuracy=0.992066\n"
     ]
    },
    {
     "name": "stderr",
     "output_type": "stream",
     "text": [
      "Epoch 92/100: 100%|██████████| 261/261 [00:10<00:00, 25.32batches/s]\n",
      "Epoch 93/100:   0%|          | 0/261 [00:00<?, ?batches/s]"
     ]
    },
    {
     "name": "stdout",
     "output_type": "stream",
     "text": [
      "Minibatch loss_val at epoch 91: 0.002022 val_accuracy=0.986965\n"
     ]
    },
    {
     "name": "stderr",
     "output_type": "stream",
     "text": [
      "Epoch 93/100: 100%|██████████| 261/261 [00:10<00:00, 25.71batches/s]\n",
      "Epoch 94/100:   0%|          | 0/261 [00:00<?, ?batches/s]"
     ]
    },
    {
     "name": "stdout",
     "output_type": "stream",
     "text": [
      "Minibatch loss_val at epoch 92: 0.026676 val_accuracy=0.992916\n"
     ]
    },
    {
     "name": "stderr",
     "output_type": "stream",
     "text": [
      "Epoch 94/100: 100%|██████████| 261/261 [00:10<00:00, 25.73batches/s]\n",
      "Epoch 95/100:   0%|          | 0/261 [00:00<?, ?batches/s]"
     ]
    },
    {
     "name": "stdout",
     "output_type": "stream",
     "text": [
      "Minibatch loss_val at epoch 93: 0.002051 val_accuracy=0.989515\n"
     ]
    },
    {
     "name": "stderr",
     "output_type": "stream",
     "text": [
      "Epoch 95/100: 100%|██████████| 261/261 [00:10<00:00, 25.71batches/s]\n",
      "Epoch 96/100:   0%|          | 0/261 [00:00<?, ?batches/s]"
     ]
    },
    {
     "name": "stdout",
     "output_type": "stream",
     "text": [
      "Minibatch loss_val at epoch 94: 0.064734 val_accuracy=0.989515\n"
     ]
    },
    {
     "name": "stderr",
     "output_type": "stream",
     "text": [
      "Epoch 96/100: 100%|██████████| 261/261 [00:10<00:00, 25.62batches/s]\n",
      "Epoch 97/100:   0%|          | 0/261 [00:00<?, ?batches/s]"
     ]
    },
    {
     "name": "stdout",
     "output_type": "stream",
     "text": [
      "Minibatch loss_val at epoch 95: 0.000042 val_accuracy=0.993483\n"
     ]
    },
    {
     "name": "stderr",
     "output_type": "stream",
     "text": [
      "Epoch 97/100: 100%|██████████| 261/261 [00:10<00:00, 25.59batches/s]\n",
      "Epoch 98/100:   0%|          | 0/261 [00:00<?, ?batches/s]"
     ]
    },
    {
     "name": "stdout",
     "output_type": "stream",
     "text": [
      "Minibatch loss_val at epoch 96: 0.001183 val_accuracy=0.987532\n"
     ]
    },
    {
     "name": "stderr",
     "output_type": "stream",
     "text": [
      "Epoch 98/100: 100%|██████████| 261/261 [00:10<00:00, 25.12batches/s]\n",
      "Epoch 99/100:   0%|          | 0/261 [00:00<?, ?batches/s]"
     ]
    },
    {
     "name": "stdout",
     "output_type": "stream",
     "text": [
      "Minibatch loss_val at epoch 97: 0.002654 val_accuracy=0.990649\n"
     ]
    },
    {
     "name": "stderr",
     "output_type": "stream",
     "text": [
      "Epoch 99/100: 100%|██████████| 261/261 [00:10<00:00, 25.63batches/s]\n",
      "Epoch 100/100:   0%|          | 0/261 [00:00<?, ?batches/s]"
     ]
    },
    {
     "name": "stdout",
     "output_type": "stream",
     "text": [
      "Minibatch loss_val at epoch 98: 0.000644 val_accuracy=0.991782\n"
     ]
    },
    {
     "name": "stderr",
     "output_type": "stream",
     "text": [
      "Epoch 100/100: 100%|██████████| 261/261 [00:10<00:00, 25.72batches/s]\n"
     ]
    },
    {
     "name": "stdout",
     "output_type": "stream",
     "text": [
      "Minibatch loss_val at epoch 99: 0.000455 val_accuracy=0.991782\n",
      "Model saved in file: model_epoch100.ckpt\n"
     ]
    },
    {
     "data": {
      "image/png": "[encoded data removed]",
      "text/plain": [
       "<matplotlib.figure.Figure at 0x7f97034632b0>"
      ]
     },
     "metadata": {},
     "output_type": "display_data"
    },
    {
     "name": "stdout",
     "output_type": "stream",
     "text": [
      "Validation accuracy at 0.9917823672294617\n",
      "Test accuracy at 0.9480000734329224\n"
     ]
    }
   ],
   "source": [
    "### Train your model here.\n",
    "### Feel free to use as many code cells as needed.\n",
    "\n",
    "epochs = 100\n",
    "\n",
    "# Gradient Descent\n",
    "#optimizer = tf.train.GradientDescentOptimizer(learning_rate).minimize(loss)    \n",
    "\n",
    "# The accuracy measured against the validation set\n",
    "validation_accuracy = 0.0\n",
    "\n",
    "# Measurements use for graphing loss and accuracy\n",
    "log_batch_step = 50\n",
    "batches = []\n",
    "loss_batch = []\n",
    "train_acc_batch = []\n",
    "valid_acc_batch = []\n",
    "\n",
    "saver=tf.train.Saver()\n",
    "\n",
    "with tf.Session() as session:\n",
    "    session.run(init)\n",
    "    batch_count = int(math.ceil(train_subset/batch_size))\n",
    "\n",
    "    for epoch_i in range(epochs):\n",
    "        \n",
    "        # Progress bar\n",
    "        batches_pbar = tqdm(range(batch_count), desc='Epoch {:>2}/{}'.format(epoch_i+1, epochs), unit='batches')\n",
    "        \n",
    "        # The training cycle\n",
    "        for batch_i in batches_pbar:\n",
    "            # Get a batch of training features and labels\n",
    "            batch_start = batch_i*batch_size\n",
    "            batch_features = train_dataset[batch_start:batch_start + batch_size]\n",
    "            batch_labels   = train_labels[batch_start:batch_start + batch_size]\n",
    "            batch_feed_dict={x: batch_features,l: batch_labels,keep_prob:dropout}\n",
    "            \n",
    "            #print(\"batch_features.shape=\",batch_features.shape)\n",
    "            #print(\"batch_labels  .shape=\",batch_labels[:10])\n",
    "\n",
    "            # Run optimizer and get loss\n",
    "            session.run(optimizer,feed_dict=batch_feed_dict)\n",
    "\n",
    "            # Log every 50 batches\n",
    "            if not batch_i % log_batch_step:\n",
    "                # Calculate Training and Validation accuracy\n",
    "                training_accuracy = session.run(accuracy, feed_dict=batch_feed_dict)\n",
    "                validation_accuracy = session.run(accuracy, feed_dict=valid_feed_dict)\n",
    "                loss_val=session.run(loss,feed_dict={x: batch_features,l: batch_labels,keep_prob:1.0})\n",
    "                #print(\"Minibatch loss at step %d: %f\" % (batch_i, loss_val))\n",
    "\n",
    "                # Log batches\n",
    "                previous_batch = batches[-1] if batches else 0\n",
    "                batches.append(log_batch_step + previous_batch)\n",
    "                loss_batch.append(loss_val)\n",
    "                train_acc_batch.append(training_accuracy)\n",
    "                valid_acc_batch.append(validation_accuracy)\n",
    "        # Check accuracy against Validation data\n",
    "        validation_accuracy = session.run(accuracy, feed_dict=valid_feed_dict)\n",
    "        print(\"Minibatch loss_val at epoch %d: %f val_accuracy=%f\" % (epoch_i, loss_val,validation_accuracy))\n",
    "    test_accuracy=session.run(accuracy,feed_dict=test_feed_dict)\n",
    "    save_path=saver.save(session,\"model_epoch100.ckpt\")\n",
    "    print(\"Model saved in file: %s\"%save_path)\n",
    "loss_plot = plt.subplot(211)\n",
    "loss_plot.set_title('Loss')\n",
    "loss_plot.plot(batches, loss_batch, 'g')\n",
    "loss_plot.set_xlim([batches[0], batches[-1]])\n",
    "acc_plot = plt.subplot(212)\n",
    "acc_plot.set_title('Accuracy')\n",
    "acc_plot.plot(batches, train_acc_batch, 'r', label='Training Accuracy')\n",
    "acc_plot.plot(batches, valid_acc_batch, 'b', label='Validation Accuracy')\n",
    "acc_plot.set_ylim([0, 1.0])\n",
    "acc_plot.set_xlim([batches[0], batches[-1]])\n",
    "acc_plot.legend(loc=4)\n",
    "plt.tight_layout()\n",
    "plt.show()\n",
    "\n",
    "print('Validation accuracy at {}'.format(validation_accuracy))\n",
    "print('Test accuracy at {}'.format(test_accuracy))"
   ]
  },
  {
   "cell_type": "markdown",
   "metadata": {
    "deletable": true,
    "editable": true
   },
   "source": [
    "### Question 4\n",
    "\n",
    "_How did you train your model? (Type of optimizer, batch size, epochs, hyperparameters, etc.)_\n"
   ]
  },
  {
   "cell_type": "markdown",
   "metadata": {
    "deletable": true,
    "editable": true
   },
   "source": [
    "**Answer:**<BR>\n",
    "I have used:\n",
    "- Adam optimizer with 0.001 learning rate.\n",
    "- Batch sizes of 128\n",
    "- 100 epochs and dropout 0.5\n",
    "- 5x5x32 first conv\n",
    "- 5x5x64 second conv\n",
    "- 512 first full\n",
    "- 256 second full\n"
   ]
  },
  {
   "cell_type": "markdown",
   "metadata": {
    "deletable": true,
    "editable": true
   },
   "source": [
    "### Question 5\n",
    "\n",
    "\n",
    "_What approach did you take in coming up with a solution to this problem?_"
   ]
  },
  {
   "cell_type": "markdown",
   "metadata": {
    "deletable": true,
    "editable": true
   },
   "source": [
    "**Answer:**<br>\n",
    "I started with ann0 which is a one layer neuron with dropouts.<BR>\n",
    "After that I tryed with ann1 adding two conv layers.<BR>\n",
    "Finally I added a full layer more.<BR>\n",
    "I started with few epoch and since dropout regularization, as much epoch as better I have rise the epoch:<BR>\n",
    "- 50  with 92.12% on test data.\n",
    "- 100 with 94.80% on test data.\n",
    "- 150 with 93.55% on test data."
   ]
  },
  {
   "cell_type": "markdown",
   "metadata": {
    "deletable": true,
    "editable": true
   },
   "source": [
    "---\n",
    "\n",
    "## Step 3: Test a Model on New Images\n",
    "\n",
    "Take several pictures of traffic signs that you find on the web or around you (at least five), and run them through your classifier on your computer to produce example results. The classifier might not recognize some local signs but it could prove interesting nonetheless.\n",
    "\n",
    "You may find `signnames.csv` useful as it contains mappings from the class id (integer) to the actual sign name."
   ]
  },
  {
   "cell_type": "markdown",
   "metadata": {
    "deletable": true,
    "editable": true
   },
   "source": [
    "### Implementation\n",
    "\n",
    "Use the code cell (or multiple code cells, if necessary) to implement the first step of your project. Once you have completed your implementation and are satisfied with the results, be sure to thoroughly answer the questions that follow."
   ]
  },
  {
   "cell_type": "code",
   "execution_count": null,
   "metadata": {
    "collapsed": false,
    "deletable": true,
    "editable": true
   },
   "outputs": [],
   "source": [
    "### Load the images and plot them here.\n",
    "### Feel free to use as many code cells as needed.\n",
    "import PIL.Image as pimg\n",
    "#import os\n",
    "#os.listdir(\".\")\n",
    "with open(\"signnames.csv\") as f:\n",
    "    signames=f.readlines()\n",
    "size=(32,32)\n",
    "limg=[]\n",
    "ly=[1,2,3,4,5,6,7]\n",
    "names=[\"stop.jpg\",\n",
    "       \"speedlimit30.jpg\",\n",
    "       \"speedlimit60.jpg\",\n",
    "       \"speedlimit100.jpg\",\n",
    "       \"speedlimit120.jpg\",\n",
    "       \"priorityroad.jpg\",\n",
    "       \"dontturnleft.jpg\",\n",
    "       \"forbident.jpg\",\n",
    "       \"gostraightorright.jpg\",\n",
    "       \"nopassing.jpg\",\n",
    "       \"nopassingtrunk.jpg\"]\n",
    "for fn in names:\n",
    "    im1=pimg.open(fn)\n",
    "    im1=im1.resize(size, pimg.ANTIALIAS)\n",
    "    im1=np.array(im1)\n",
    "    plt.figure()\n",
    "    plt.imshow(im1)\n",
    "    limg.append(im1)\n",
    "X_new=np.array(limg)\n",
    "y_new=np.array(ly)\n",
    "print(X_new.shape)\n",
    "new_dataset_prenorm, new_labels = reformat(X_new,y_new)\n",
    "#print(\"new_labels=\",new_labels)\n",
    "print(\"min,max=\",np.min(new_dataset_prenorm),np.max(new_dataset_prenorm))\n",
    "new_dataset=normalize(new_dataset_prenorm)\n",
    "print(\"min,max=\",np.min(new_dataset),np.max(new_dataset))\n",
    "new_feed_dict={x:new_dataset,l:new_labels,keep_prob:1.0}"
   ]
  },
  {
   "cell_type": "markdown",
   "metadata": {
    "deletable": true,
    "editable": true
   },
   "source": [
    "### Question 6\n",
    "\n",
    "_Choose five candidate images of traffic signs and provide them in the report. Are there any particular qualities of the image(s) that might make classification difficult? It would be helpful to plot the images in the notebook._\n",
    "\n"
   ]
  },
  {
   "cell_type": "markdown",
   "metadata": {
    "deletable": true,
    "editable": true
   },
   "source": [
    "**Answer:**<BR>\n",
    "Some images, mainly speedlimit, are oversized and are cropped to, and they are badly clasified. That is because in the dataset there is not this kind of images. On the other hand dontturnleft.jpg is not in the dataset."
   ]
  },
  {
   "cell_type": "code",
   "execution_count": 1,
   "metadata": {
    "collapsed": false,
    "deletable": true,
    "editable": true
   },
   "outputs": [
    {
     "ename": "NameError",
     "evalue": "name 'tf' is not defined",
     "output_type": "error",
     "traceback": [
      "\u001b[0;31m---------------------------------------------------------------------------\u001b[0m",
      "\u001b[0;31mNameError\u001b[0m                                 Traceback (most recent call last)",
      "\u001b[0;32m<ipython-input-1-0e959f02dcc6>\u001b[0m in \u001b[0;36m<module>\u001b[0;34m()\u001b[0m\n\u001b[1;32m      1\u001b[0m \u001b[0;31m### Run the predictions here.\u001b[0m\u001b[0;34m\u001b[0m\u001b[0;34m\u001b[0m\u001b[0m\n\u001b[1;32m      2\u001b[0m \u001b[0;31m### Feel free to use as many code cells as needed.\u001b[0m\u001b[0;34m\u001b[0m\u001b[0;34m\u001b[0m\u001b[0m\n\u001b[0;32m----> 3\u001b[0;31m \u001b[0;32mwith\u001b[0m \u001b[0mtf\u001b[0m\u001b[0;34m.\u001b[0m\u001b[0mSession\u001b[0m\u001b[0;34m(\u001b[0m\u001b[0;34m)\u001b[0m \u001b[0;32mas\u001b[0m \u001b[0msession\u001b[0m\u001b[0;34m:\u001b[0m\u001b[0;34m\u001b[0m\u001b[0m\n\u001b[0m\u001b[1;32m      4\u001b[0m     \u001b[0msession\u001b[0m\u001b[0;34m.\u001b[0m\u001b[0mrun\u001b[0m\u001b[0;34m(\u001b[0m\u001b[0minit\u001b[0m\u001b[0;34m)\u001b[0m\u001b[0;34m\u001b[0m\u001b[0m\n\u001b[1;32m      5\u001b[0m     \u001b[0msaver\u001b[0m\u001b[0;34m.\u001b[0m\u001b[0mrestore\u001b[0m\u001b[0;34m(\u001b[0m\u001b[0msession\u001b[0m\u001b[0;34m,\u001b[0m\u001b[0;34m\"model_epoch100.ckpt\"\u001b[0m\u001b[0;34m)\u001b[0m\u001b[0;34m\u001b[0m\u001b[0m\n",
      "\u001b[0;31mNameError\u001b[0m: name 'tf' is not defined"
     ]
    }
   ],
   "source": [
    "### Run the predictions here.\n",
    "### Feel free to use as many code cells as needed.\n",
    "with tf.Session() as session:\n",
    "    session.run(init)\n",
    "    saver.restore(session,\"model_epoch100.ckpt\")\n",
    "    print(\"Model restored\")\n",
    "    pred=session.run(prediction,feed_dict=new_feed_dict)\n",
    "    # Check accuracy against samples\n",
    "    new_accuracy = session.run(accuracy, feed_dict=new_feed_dict)\n",
    "\n",
    "print(\"pred=\",np.max(pred,axis=1))\n",
    "lnames=[]\n",
    "print(\"pred=\",np.argmax(pred,axis=1))\n",
    "for i in np.argmax(pred,axis=1):\n",
    "    print(i,signames[i+1])\n",
    "    lnames.append(signames[i+1])\n",
    "                       "
   ]
  },
  {
   "cell_type": "markdown",
   "metadata": {
    "deletable": true,
    "editable": true
   },
   "source": [
    "### Question 7\n",
    "\n",
    "_Is your model able to perform equally well on captured pictures or a live camera stream when compared to testing on the dataset?_\n"
   ]
  },
  {
   "cell_type": "markdown",
   "metadata": {
    "deletable": true,
    "editable": true
   },
   "source": [
    "**Answer:**<BR>\n",
    "It would do better if I chose pictures well cropped and not oversized, but overall I am happy with the result."
   ]
  },
  {
   "cell_type": "code",
   "execution_count": 103,
   "metadata": {
    "collapsed": false,
    "deletable": true,
    "editable": true
   },
   "outputs": [
    {
     "data": {
      "image/png": "[encoded data removed]",
      "text/plain": [
       "<matplotlib.figure.Figure at 0x7f96ffd87c50>"
      ]
     },
     "metadata": {},
     "output_type": "display_data"
    },
    {
     "data": {
      "image/png": "[encoded data removed]",
      "text/plain": [
       "<matplotlib.figure.Figure at 0x7f96ffd66518>"
      ]
     },
     "metadata": {},
     "output_type": "display_data"
    },
    {
     "data": {
      "image/png": "[encoded data removed]",
      "text/plain": [
       "<matplotlib.figure.Figure at 0x7f97094db2e8>"
      ]
     },
     "metadata": {},
     "output_type": "display_data"
    },
    {
     "data": {
      "image/png": "[encoded data removed]",
      "text/plain": [
       "<matplotlib.figure.Figure at 0x7f97092392b0>"
      ]
     },
     "metadata": {},
     "output_type": "display_data"
    },
    {
     "data": {
      "image/png": "[encoded data removed]",
      "text/plain": [
       "<matplotlib.figure.Figure at 0x7f96d4309b38>"
      ]
     },
     "metadata": {},
     "output_type": "display_data"
    },
    {
     "data": {
      "image/png": "[encoded data removed]",
      "text/plain": [
       "<matplotlib.figure.Figure at 0x7f9709132b00>"
      ]
     },
     "metadata": {},
     "output_type": "display_data"
    },
    {
     "data": {
      "image/png": "[encoded data removed]",
      "text/plain": [
       "<matplotlib.figure.Figure at 0x7f96ffba1da0>"
      ]
     },
     "metadata": {},
     "output_type": "display_data"
    },
    {
     "data": {
      "image/png": "[encoded data removed]",
      "text/plain": [
       "<matplotlib.figure.Figure at 0x7f96ff74b2e8>"
      ]
     },
     "metadata": {},
     "output_type": "display_data"
    },
    {
     "data": {
      "image/png": "[encoded data removed]",
      "text/plain": [
       "<matplotlib.figure.Figure at 0x7f9700d98908>"
      ]
     },
     "metadata": {},
     "output_type": "display_data"
    },
    {
     "data": {
      "image/png": "[encoded data removed]",
      "text/plain": [
       "<matplotlib.figure.Figure at 0x7f9703207eb8>"
      ]
     },
     "metadata": {},
     "output_type": "display_data"
    },
    {
     "data": {
      "image/png": "[encoded data removed]",
      "text/plain": [
       "<matplotlib.figure.Figure at 0x7f9702d57cc0>"
      ]
     },
     "metadata": {},
     "output_type": "display_data"
    }
   ],
   "source": [
    "### Visualize the softmax probabilities here.\n",
    "### Feel free to use as many code cells as needed.\n",
    "for i in range(pred.shape[0]):\n",
    "    plt.figure(i)\n",
    "    #print(pred[i])\n",
    "    plt.bar(range(43),pred[i])\n",
    "    plt.title(lnames[i])\n",
    "    plt.xlabel(\"Sign\")\n",
    "    plt.ylabel(\"Probability\")\n",
    "    #plt.set_ylim([0, 1.0])\n",
    "    #plt.set_xlim([0, 42])\n",
    "    #plt.axis([0,42,0.0,1.0])\n",
    "    plt.show()\n"
   ]
  },
  {
   "cell_type": "markdown",
   "metadata": {
    "deletable": true,
    "editable": true
   },
   "source": [
    "### Question 8\n",
    "\n",
    "*Use the model's softmax probabilities to visualize the **certainty** of its predictions, [`tf.nn.top_k`](https://www.tensorflow.org/versions/r0.11/api_docs/python/nn.html#top_k) could prove helpful here. Which predictions is the model certain of? Uncertain? If the model was incorrect in its initial prediction, does the correct prediction appear in the top k? (k should be 5 at most)*\n"
   ]
  },
  {
   "cell_type": "markdown",
   "metadata": {
    "deletable": true,
    "editable": true
   },
   "source": [
    "**Answer:**<BR>\n",
    "On charts It can be seen that bad classified are more peaked histograms. That happend on the speedlimit images. <BR>\n",
    "On the other hand the image that is not in the dataset dontturnleft.jpg has high confidence, since there is no more than one peak."
   ]
  },
  {
   "cell_type": "markdown",
   "metadata": {
    "deletable": true,
    "editable": true
   },
   "source": [
    "### Question 9\n",
    "_If necessary, provide documentation for how an interface was built for your model to load and classify newly-acquired images._\n"
   ]
  },
  {
   "cell_type": "markdown",
   "metadata": {
    "deletable": true,
    "editable": true
   },
   "source": [
    "**Answer:**<BR>\n",
    "I would need a traffic sign detector, then crop the roi, load the model and predict the result.<BR>\n",
    "In Dlib C++ library there is a detector using  max-margin object-detection algorithm (MMOD) in combination with deep learning, and it works very well and fast, with only a few training data. This is the URL with more details:\n",
    "- http://blog.dlib.net/\n",
    "\n",
    "I would like to use it in my guide robot in order to detect pedestrian and dinamic object in the university campus."
   ]
  },
  {
   "cell_type": "markdown",
   "metadata": {
    "deletable": true,
    "editable": true
   },
   "source": [
    "> **Note**: Once you have completed all of the code implementations and successfully answered each question above, you may finalize your work by exporting the iPython Notebook as an HTML document. You can do this by using the menu above and navigating to  \\n\",\n",
    "    \"**File -> Download as -> HTML (.html)**. Include the finished document along with this notebook as your submission."
   ]
  },
  {
   "cell_type": "code",
   "execution_count": null,
   "metadata": {
    "collapsed": true,
    "deletable": true,
    "editable": true
   },
   "outputs": [],
   "source": []
  }
 ],
 "metadata": {
  "anaconda-cloud": {},
  "kernelspec": {
   "display_name": "Python 3",
   "language": "python",
   "name": "python3"
  },
  "language_info": {
   "codemirror_mode": {
    "name": "ipython",
    "version": 3
   },
   "file_extension": ".py",
   "mimetype": "text/x-python",
   "name": "python",
   "nbconvert_exporter": "python",
   "pygments_lexer": "ipython3",
   "version": "3.5.2"
  },
  "widgets": {
   "state": {},
   "version": "1.1.2"
  }
 },
 "nbformat": 4,
 "nbformat_minor": 1
}
