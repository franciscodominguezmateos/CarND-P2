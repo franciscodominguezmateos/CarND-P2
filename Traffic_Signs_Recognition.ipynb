{
 "cells": [
  {
   "cell_type": "markdown",
   "metadata": {
    "deletable": true,
    "editable": true
   },
   "source": [
    "# Self-Driving Car Engineer Nanodegree\n",
    "\n",
    "## Deep Learning\n",
    "\n",
    "## Project: Build a Traffic Sign Recognition Classifier\n",
    "\n",
    "In this notebook, a template is provided for you to implement your functionality in stages which is required to successfully complete this project. If additional code is required that cannot be included in the notebook, be sure that the Python code is successfully imported and included in your submission, if necessary. Sections that begin with **'Implementation'** in the header indicate where you should begin your implementation for your project. Note that some sections of implementation are optional, and will be marked with **'Optional'** in the header.\n",
    "\n",
    "In addition to implementing code, there will be questions that you must answer which relate to the project and your implementation. Each section where you will answer a question is preceded by a **'Question'** header. Carefully read each question and provide thorough answers in the following text boxes that begin with **'Answer:'**. Your project submission will be evaluated based on your answers to each of the questions and the implementation you provide.\n",
    "\n",
    ">**Note:** Code and Markdown cells can be executed using the **Shift + Enter** keyboard shortcut. In addition, Markdown cells can be edited by typically double-clicking the cell to enter edit mode."
   ]
  },
  {
   "cell_type": "markdown",
   "metadata": {
    "deletable": true,
    "editable": true
   },
   "source": [
    "---\n",
    "\n",
    "## Step 1: Dataset Exploration\n",
    "\n",
    "Visualize the German Traffic Signs Dataset. This is open ended, some suggestions include: plotting traffic signs images, plotting the count of each sign, etc. Be creative!\n",
    "\n",
    "\n",
    "The pickled data is a dictionary with 4 key/value pairs:\n",
    "\n",
    "- features -> the images pixel values, (width, height, channels)\n",
    "- labels -> the label of the traffic sign\n",
    "- sizes -> the original width and height of the image, (width, height)\n",
    "- coords -> coordinates of a bounding box around the sign in the image, (x1, y1, x2, y2). Based the original image (not the resized version)."
   ]
  },
  {
   "cell_type": "code",
   "execution_count": 1,
   "metadata": {
    "collapsed": false,
    "deletable": true,
    "editable": true
   },
   "outputs": [
    {
     "name": "stdout",
     "output_type": "stream",
     "text": [
      "X_train set (39209, 32, 32, 3) (39209,)\n",
      "X_Test  set (12630, 32, 32, 3) (12630,)\n"
     ]
    }
   ],
   "source": [
    "# Load pickled data\n",
    "import pickle\n",
    "import cv2\n",
    "\n",
    "# TODO: fill this in based on where you saved the training and testing data\n",
    "training_file = \"train.p\"\n",
    "testing_file = \"test.p\"\n",
    "\n",
    "with open(training_file, mode='rb') as f:\n",
    "    train = pickle.load(f)\n",
    "with open(testing_file, mode='rb') as f:\n",
    "    test = pickle.load(f)\n",
    "    \n",
    "X_train, y_train = train['features'], train['labels']\n",
    "X_test, y_test = test['features'], test['labels']\n",
    "print('X_train set', X_train.shape, y_train.shape)\n",
    "print('X_Test  set', X_test.shape , y_test.shape)"
   ]
  },
  {
   "cell_type": "code",
   "execution_count": 2,
   "metadata": {
    "collapsed": false,
    "deletable": true,
    "editable": true
   },
   "outputs": [
    {
     "name": "stdout",
     "output_type": "stream",
     "text": [
      "Number of training examples = 39209\n",
      "Number of testing examples = 12630\n",
      "Image data shape = (32, 32, 3)\n",
      "n_classes= 43\n"
     ]
    }
   ],
   "source": [
    "### To start off let's do a basic data summary.\n",
    "\n",
    "# TODO: number of training examples\n",
    "n_train = X_train.shape[0]\n",
    "\n",
    "# TODO: number of testing examples\n",
    "n_test = X_test.shape[0]\n",
    "\n",
    "# TODO: what's the shape of an image?\n",
    "image_shape = X_train.shape[1:]\n",
    "\n",
    "# TODO: how many classes are in the dataset\n",
    "n_classes = max(y_train)+1\n",
    "\n",
    "print(\"Number of training examples =\", n_train)\n",
    "print(\"Number of testing examples =\", n_test)\n",
    "print(\"Image data shape =\", image_shape)\n",
    "print(\"n_classes=\",n_classes)"
   ]
  },
  {
   "cell_type": "code",
   "execution_count": 3,
   "metadata": {
    "collapsed": false,
    "deletable": true,
    "editable": true
   },
   "outputs": [
    {
     "name": "stdout",
     "output_type": "stream",
     "text": [
      "l= 39209\n",
      "label= 13\n",
      "label= 4\n",
      "label= 13\n",
      "label= 7\n"
     ]
    },
    {
     "data": {
      "image/png": "[encoded data removed]",
      "text/plain": [
       "<matplotlib.figure.Figure at 0x7fdc3d978ef0>"
      ]
     },
     "metadata": {},
     "output_type": "display_data"
    },
    {
     "data": {
      "image/png": "[encoded data removed]",
      "text/plain": [
       "<matplotlib.figure.Figure at 0x7fdc3d87fb38>"
      ]
     },
     "metadata": {},
     "output_type": "display_data"
    },
    {
     "data": {
      "image/png": "[encoded data removed]",
      "text/plain": [
       "<matplotlib.figure.Figure at 0x7fdc3d899d30>"
      ]
     },
     "metadata": {},
     "output_type": "display_data"
    },
    {
     "data": {
      "image/png": "[encoded data removed]",
      "text/plain": [
       "<matplotlib.figure.Figure at 0x7fdc3d827400>"
      ]
     },
     "metadata": {},
     "output_type": "display_data"
    }
   ],
   "source": [
    "### Data exploration visualization goes here.\n",
    "### Feel free to use as many code cells as needed.\n",
    "import math\n",
    "import numpy as np\n",
    "from sklearn.model_selection import train_test_split\n",
    "import matplotlib.pyplot as plt\n",
    "from IPython.display import display, Image\n",
    "from tqdm import tqdm \n",
    "import tensorflow as tf\n",
    "\n",
    "# Config the matplotlib backend as plotting inline in IPython\n",
    "%matplotlib inline\n",
    "\n",
    "l=X_train.shape[0]\n",
    "print (\"l=\",l)\n",
    "for a in range(4):\n",
    "    sample_idx = np.random.randint(l)  # pick a random image index\n",
    "    sample_image = X_train[sample_idx]  # extract a 2D slice\n",
    "    print (\"label=\",y_train[sample_idx])\n",
    "    plt.figure()\n",
    "    plt.imshow(sample_image)\n"
   ]
  },
  {
   "cell_type": "markdown",
   "metadata": {
    "deletable": true,
    "editable": true
   },
   "source": [
    "----\n",
    "\n",
    "## Step 2: Design and Test a Model Architecture\n",
    "\n",
    "Design and implement a deep learning model that learns to recognize traffic signs. Train and test your model on the [German Traffic Sign Dataset](http://benchmark.ini.rub.de/?section=gtsrb&subsection=dataset).\n",
    "\n",
    "There are various aspects to consider when thinking about this problem:\n",
    "\n",
    "- Your model can be derived from a deep feedforward net or a deep convolutional network.\n",
    "- Play around preprocessing techniques (normalization, rgb to grayscale, etc)\n",
    "- Number of examples per label (some have more than others).\n",
    "- Generate fake data.\n",
    "\n",
    "Here is an example of a [published baseline model on this problem](http://yann.lecun.com/exdb/publis/pdf/sermanet-ijcnn-11.pdf). It's not required to be familiar with the approach used in the paper but, it's good practice to try to read papers like these."
   ]
  },
  {
   "cell_type": "markdown",
   "metadata": {
    "deletable": true,
    "editable": true
   },
   "source": [
    "### Implementation\n",
    "\n",
    "Use the code cell (or multiple code cells, if necessary) to implement the first step of your project. Once you have completed your implementation and are satisfied with the results, be sure to thoroughly answer the questions that follow."
   ]
  },
  {
   "cell_type": "code",
   "execution_count": 4,
   "metadata": {
    "collapsed": false,
    "deletable": true,
    "editable": true
   },
   "outputs": [],
   "source": [
    "### Preprocess the data here.\n",
    "### Feel free to use as many code cells as needed.\n",
    "image_size = image_shape[0]\n",
    "n_channels=image_shape[2]\n",
    "num_labels = n_classes\n",
    "# With gradient descent training, even this much data is prohibitive.\n",
    "# Subset the training data for faster turnaround.\n",
    "train_subset = int(n_train*0.85)\n",
    "test_subset=2000\n",
    "\n",
    "def normalize(image_data):\n",
    "    \"\"\"\n",
    "    Normalize the image data with Min-Max scaling to a range of [0.1, 0.9]\n",
    "    :param image_data: The image data to be normalized\n",
    "    :return: Normalized image data\n",
    "    \"\"\"\n",
    "    a = -0.5\n",
    "    b = 0.5\n",
    "    greyscale_min = 0\n",
    "    greyscale_max = 255\n",
    "    return a + ( ( (image_data - greyscale_min)*(b - a) )/( greyscale_max - greyscale_min ) )\n",
    "\n",
    "def reformat(dataset, labels):\n",
    "  dataset = dataset.reshape((-1, image_size * image_size*n_channels)).astype(np.float32)\n",
    "  # Map 0 to [1.0, 0.0, 0.0 ...], 1 to [0.0, 1.0, 0.0 ...]\n",
    "  labels = (np.arange(num_labels) == labels[:,None]).astype(np.float32)\n",
    "  return dataset, labels\n",
    "\n",
    "train_dataset_prenorm, train_labels = reformat(X_train,y_train)\n",
    "test_dataset_prenorm,  test_labels  = reformat(X_test,y_test)\n",
    "\n",
    "train_dataset=normalize(train_dataset_prenorm)\n",
    "test_dataset =test_dataset_prenorm#normalize_greyscale(test_dataset_prenorm)\n"
   ]
  },
  {
   "cell_type": "code",
   "execution_count": 5,
   "metadata": {
    "collapsed": false,
    "deletable": true,
    "editable": true
   },
   "outputs": [
    {
     "name": "stdout",
     "output_type": "stream",
     "text": [
      "l= 12630\n",
      "label= [ 0.  0.  0.  0.  1.  0.  0.  0.  0.  0.  0.  0.  0.  0.  0.  0.  0.  0.\n",
      "  0.  0.  0.  0.  0.  0.  0.  0.  0.  0.  0.  0.  0.  0.  0.  0.  0.  0.\n",
      "  0.  0.  0.  0.  0.  0.  0.]\n",
      "nlabels= 43\n"
     ]
    },
    {
     "data": {
      "image/png": "[encoded data removed]",
      "text/plain": [
       "<matplotlib.figure.Figure at 0x7fdc3b72ff28>"
      ]
     },
     "metadata": {},
     "output_type": "display_data"
    },
    {
     "data": {
      "image/png": "[encoded data removed]",
      "text/plain": [
       "<matplotlib.figure.Figure at 0x7fdc1eb7e198>"
      ]
     },
     "metadata": {},
     "output_type": "display_data"
    },
    {
     "data": {
      "image/png": "[encoded data removed]",
      "text/plain": [
       "<matplotlib.figure.Figure at 0x7fdc1eb0beb8>"
      ]
     },
     "metadata": {},
     "output_type": "display_data"
    },
    {
     "data": {
      "image/png": "[encoded data removed]",
      "text/plain": [
       "<matplotlib.figure.Figure at 0x7fdc1ea98a58>"
      ]
     },
     "metadata": {},
     "output_type": "display_data"
    }
   ],
   "source": [
    "\n",
    "l=test_dataset.shape[0]\n",
    "print (\"l=\",l)\n",
    "for a in range(1):\n",
    "    sample_idx = np.random.randint(l)  # pick a random image index\n",
    "    sample_image_X = X_train[sample_idx]  # extract a 2D slice\n",
    "    sample_image_test = test_dataset[sample_idx]  # extract a 2D slice\n",
    "    sample_image = train_dataset[sample_idx]  # extract a 2D slice\n",
    "    sample_image_prenorm = train_dataset_prenorm[sample_idx]  # extract a 2D slice\n",
    "    print (\"label=\",train_labels[sample_idx])\n",
    "    print(\"nlabels=\",len(train_labels[sample_idx]))\n",
    "    plt.figure()\n",
    "    plt.imshow(sample_image_X)\n",
    "    plt.figure()\n",
    "    plt.imshow(sample_image_prenorm.reshape([32,32,3]))\n",
    "    plt.figure()\n",
    "    plt.imshow((sample_image.reshape([32,32,3])+0.5))\n",
    "    plt.figure()\n",
    "    plt.imshow(sample_image_test.reshape([32,32,3]))\n"
   ]
  },
  {
   "cell_type": "markdown",
   "metadata": {
    "deletable": true,
    "editable": true
   },
   "source": [
    "### Question 1 \n",
    "\n",
    "_Describe the techniques used to preprocess the data._"
   ]
  },
  {
   "cell_type": "markdown",
   "metadata": {
    "deletable": true,
    "editable": true
   },
   "source": [
    "**Answer:**\n",
    "I have used a simple preprocessing technique, just normalizing from -0.5 to 0.5. \n",
    "\n",
    "REVIEW: This approach gives the advantage of treat all dimensions as equals, since all values in all dimensions are in the same range. if that woudln't be the case, then a dimension would be more importan than others. Normalization usually is done by taking the mean and dividing by standard deviation, but on images since range is known, a common approasch is just substract divide by 255 and substract 0.5."
   ]
  },
  {
   "cell_type": "code",
   "execution_count": 6,
   "metadata": {
    "collapsed": false,
    "deletable": true,
    "editable": true
   },
   "outputs": [
    {
     "name": "stdout",
     "output_type": "stream",
     "text": [
      "Training features and labels randomized and split.\n",
      "Training set (33327, 3072) (33327, 43)\n",
      "Validation set (3529, 3072) (3529, 43)\n",
      "Test set (2000, 3072) (2000, 43)\n"
     ]
    }
   ],
   "source": [
    "### Generate data additional (if you want to!)\n",
    "### and split the data into training/validation/testing sets here.\n",
    "### Feel free to use as many code cells as needed.\n",
    "# Get randomized datasets for training and validation\n",
    "\n",
    "train_dataset, valid_dataset, train_labels, valid_labels = train_test_split(\n",
    "    train_dataset,\n",
    "    train_labels,\n",
    "    test_size=0.09,\n",
    "    random_state=832289)\n",
    "#Get a subset of training data in order to work faster\n",
    "train_dataset,train_labels=train_dataset[:train_subset,:],train_labels[:train_subset]\n",
    "\n",
    "print('Training features and labels randomized and split.')\n",
    "#valid_dataset, valid_labels = reformat(X_train[train_subset:train_subset+valid_subset,:],\n",
    "#                                       y_train[train_subset:train_subset+valid_subset])\n",
    "test_dataset , test_labels  = reformat(test_dataset[:test_subset,:],y_test[:test_subset])\n",
    "test_dataset =normalize(test_dataset)\n",
    "print('Training set', train_dataset.shape, train_labels.shape)\n",
    "print('Validation set', valid_dataset.shape, valid_labels.shape)\n",
    "print('Test set', test_dataset.shape, test_labels.shape)"
   ]
  },
  {
   "cell_type": "markdown",
   "metadata": {
    "deletable": true,
    "editable": true
   },
   "source": [
    "### Question 2\n",
    "\n",
    "_Describe how you set up the training, validation and testing data for your model. If you generated additional data, why?_"
   ]
  },
  {
   "cell_type": "markdown",
   "metadata": {
    "deletable": true,
    "editable": true
   },
   "source": [
    "**Answer:**\n",
    "I have a GPU with 2Gbytes and have some memory limitations.<br>\n",
    "I can only use 85% of the training data and it is split in 33327 samples to traing and 3529 to validate. Just can use 2000 samples for test, with more data I got run out of memory error."
   ]
  },
  {
   "cell_type": "code",
   "execution_count": 7,
   "metadata": {
    "collapsed": false,
    "deletable": true,
    "editable": true
   },
   "outputs": [
    {
     "name": "stdout",
     "output_type": "stream",
     "text": [
      "n_clases= 43\n"
     ]
    }
   ],
   "source": [
    "### Define your architecture here.\n",
    "### Feel free to use as many code cells as needed.\n",
    "batch_size = 128\n",
    "learning_rate = 0.001\n",
    "dropout=0.5\n",
    "\n",
    "# Create some wrappers for simplicity\n",
    "def lin(x,W,b):\n",
    "    l=tf.add(tf.matmul(x,W),b)\n",
    "    return l\n",
    "\n",
    "def fc(x,W,b): \n",
    "    l=lin(x,W,b)\n",
    "    fc=tf.nn.relu(l)\n",
    "    return fc\n",
    "\n",
    "def fc_drop(x,W,b,dropout):\n",
    "    l=lin(x,W,b)\n",
    "    fc=tf.nn.relu(l)\n",
    "    fc=tf.nn.dropout(fc,dropout)\n",
    "    return fc\n",
    "\n",
    "def conv2d(x, W, b, strides=1):\n",
    "    # Conv2D wrapper, with bias and relu activation\n",
    "    x = tf.nn.conv2d(x, W, strides=[1, strides, strides, 1], padding='SAME')\n",
    "    x = tf.nn.bias_add(x, b)\n",
    "    return tf.nn.relu(x)\n",
    "\n",
    "def maxpool2d(x, k=2):\n",
    "    # MaxPool2D wrapper\n",
    "    return tf.nn.max_pool(x, ksize=[1, k, k, 1], strides=[1, k, k, 1],\n",
    "                          padding='SAME')\n",
    "def conv2dmaxp(x,W,b,k=2):\n",
    "    #if you do maxpoo don't do strides in conv\n",
    "    cv=conv2d(x,W,b)\n",
    "    mp=maxpool2d(cv,k)\n",
    "    return mp\n",
    "def conv2dmaxpdrop(x,W,b,k=2,dropout=0.5):\n",
    "    #if you do maxpoo don't do strides in conv\n",
    "    cv=conv2d(x,W,b)\n",
    "    mp=maxpool2d(cv,k)\n",
    "    return tf.nn.dropout(mp,dropout)\n",
    "\n",
    "# Create model\n",
    "def annX(x, weights, biases, dropout):\n",
    "    # Reshape input picture\n",
    "    x = tf.reshape(x, shape=[-1, image_size, image_size, n_channels])\n",
    "\n",
    "    # Convolution Layer\n",
    "    conv1 = conv2d(x, weights['wc1'], biases['bc1'])\n",
    "    # Max Pooling (down-sampling)\n",
    "    conv1 = maxpool2d(conv1, k=2)\n",
    "\n",
    "    # Convolution Layer\n",
    "    conv2 = conv2d(conv1, weights['wc2'], biases['bc2'])\n",
    "    # Max Pooling (down-sampling)\n",
    "    conv2 = maxpool2d(conv2, k=2)\n",
    "    #conv2=x\n",
    "\n",
    "    # Fully connected layer\n",
    "    # Reshape conv2 output to fit fully connected layer input\n",
    "    fc1 = tf.reshape(conv2, [-1, weights['wd1'].get_shape().as_list()[0]])\n",
    "    fc1 = tf.add(tf.matmul(fc1, weights['wd1']), biases['bd1'])\n",
    "    fc1 = tf.nn.relu(fc1)\n",
    "    # Apply Dropout\n",
    "    fc1 = tf.nn.dropout(fc1, dropout)\n",
    "    # Output, class prediction\n",
    "    out = tf.add(tf.matmul(fc1, weights['out']), biases['out'])\n",
    "    return out\n",
    "def ann0(x, weights, biases, dropout):\n",
    "    fc1=fc_drop(x,weights['wd1full'], biases['bd1'],dropout)\n",
    "    out = lin(fc1, weights['out'], biases['out'])\n",
    "    return out\n",
    "def ann1(x, weights, biases, dropout):\n",
    "    x = tf.reshape(x, shape=[-1, image_size, image_size, n_channels])\n",
    "    conv1=conv2dmaxp(x    ,weights['wc1'],biases['bc1'])\n",
    "    conv2=conv2dmaxp(conv1,weights['wc2'],biases['bc2'])\n",
    "    #fc1 = tf.reshape(conv2, [-1, weights['wd1'].get_shape().as_list()[0]])\n",
    "    shape = conv2.get_shape().as_list()\n",
    "    flat = tf.reshape(conv2, [-1, shape[1] * shape[2] * shape[3]])\n",
    "    fc1 = fc_drop(flat,weights['wd1'], biases['bd1'],dropout)\n",
    "    # Output, class prediction\n",
    "    out = lin(fc1, weights['out'], biases['out'])\n",
    "    return out\n",
    "def ann(x, weights, biases, dropout):\n",
    "    x = tf.reshape(x, shape=[-1, image_size, image_size, n_channels])\n",
    "    conv1=conv2dmaxp(x    ,weights['wc1'],biases['bc1'])\n",
    "    conv2=conv2dmaxpdrop(conv1,weights['wc2'],biases['bc2'])\n",
    "    #fc1 = tf.reshape(conv2, [-1, weights['wd1'].get_shape().as_list()[0]])\n",
    "    shape = conv2.get_shape().as_list()\n",
    "    flat = tf.reshape(conv2, [-1, shape[1] * shape[2] * shape[3]])\n",
    "    fc1 = fc_drop(flat,weights['wd1'], biases['bd1'],dropout)\n",
    "    fc2 = fc_drop(fc1 ,weights['wd2'], biases['bd2'],dropout)\n",
    "    # Output, class prediction\n",
    "    out = lin(fc2, weights['out'], biases['out'])\n",
    "    return out\n",
    "\n",
    "# Store layers weight & bias\n",
    "weights = {\n",
    "    # 5x5 conv, 1 input, 32 outputs\n",
    "    'wc1': tf.Variable(tf.truncated_normal([5, 5, n_channels, 32], stddev=0.1)),\n",
    "    # 5x5 conv, 32 inputs, 64 outputs\n",
    "    'wc2': tf.Variable(tf.truncated_normal([5, 5, 32, 64], stddev=0.1)),\n",
    "    # fully connected, 7*7*64 inputs, 1024 outputs\n",
    "    'wd1': tf.Variable(tf.truncated_normal([image_size//4*image_size//4*64, 512], stddev=0.1)),\n",
    "    'wd2': tf.Variable(tf.truncated_normal([512, 256], stddev=0.1)),\n",
    "    'wd1full': tf.Variable(tf.truncated_normal([image_size*image_size*n_channels, 1014], stddev=0.1)),\n",
    "    # 1024 inputs, 10 outputs (class prediction)\n",
    "    'out': tf.Variable(tf.truncated_normal([256, n_classes], stddev=0.1))\n",
    "}\n",
    "\n",
    "print(\"n_clases=\", n_classes)\n",
    "\n",
    "biases = {\n",
    "    'bc1': tf.Variable(tf.zeros([32])),\n",
    "    'bc2': tf.Variable(tf.constant(1.0,shape=[64])),\n",
    "    'bd1': tf.Variable(tf.constant(1.0,shape=[512])),\n",
    "    'bd2': tf.Variable(tf.constant(1.0,shape=[256])),\n",
    "    'out': tf.Variable(tf.constant(1.0,shape=[n_classes]))\n",
    "}\n",
    "\n",
    "x = tf.placeholder(tf.float32)\n",
    "l = tf.placeholder(tf.float32)\n",
    "keep_prob = tf.placeholder(tf.float32) #dropout (keep probability)\n",
    "# Feed dicts for training, validation, and test session\n",
    "#train_feed_dict = {x: train_dataset, l: train_labels,keep_prob:dropout}\n",
    "valid_feed_dict = {x: valid_dataset, l: valid_labels,keep_prob:1.0}\n",
    "test_feed_dict =  {x: test_dataset , l: test_labels ,keep_prob:1.0}\n",
    "\n",
    "# Training computation.\n",
    "# tf Graph input\n",
    "logits     = ann(x,weights,biases,keep_prob)\n",
    "prediction = tf.nn.softmax(logits)\n",
    "loss       = tf.reduce_mean(tf.nn.softmax_cross_entropy_with_logits(logits=logits, labels=l))\n",
    "\n",
    "# Evaluate model\n",
    "# Determine if the predictions are correct\n",
    "is_correct_prediction = tf.equal(tf.argmax(prediction, 1), tf.argmax(l, 1))\n",
    "# Calculate the accuracy of the predictions\n",
    "accuracy = tf.reduce_mean(tf.cast(is_correct_prediction, tf.float32))\n",
    "\n",
    "# Optimizer.\n",
    "#optimizer = tf.train.GradientDescentOptimizer(learning_rate).minimize(loss)\n",
    "optimizer = tf.train.AdamOptimizer(learning_rate).minimize(loss)\n",
    "\n",
    "  \n",
    "# Predictions for the training, validation, and test data.\n",
    "init = tf.global_variables_initializer()\n",
    "# Test Cases\n",
    "with tf.Session() as session:\n",
    "    session.run(init)\n",
    "    #session.run(loss, feed_dict=train_feed_dict)\n",
    "    session.run(loss, feed_dict=valid_feed_dict)\n",
    "    session.run(loss, feed_dict=test_feed_dict)\n",
    "    biases_data = session.run(biases)"
   ]
  },
  {
   "cell_type": "markdown",
   "metadata": {
    "deletable": true,
    "editable": true
   },
   "source": [
    "### Question 3\n",
    "\n",
    "_What does your final architecture look like? (Type of model, layers, sizes, connectivity, etc.)  For reference on how to build a deep neural network using TensorFlow, see [Deep Neural Network in TensorFlow\n",
    "](https://classroom.udacity.com/nanodegrees/nd013/parts/fbf77062-5703-404e-b60c-95b78b2f3f9e/modules/6df7ae49-c61c-4bb2-a23e-6527e69209ec/lessons/b516a270-8600-4f93-a0a3-20dfeabe5da6/concepts/83a3a2a2-a9bd-4b7b-95b0-eb924ab14432) from the classroom._\n"
   ]
  },
  {
   "cell_type": "markdown",
   "metadata": {
    "deletable": true,
    "editable": true
   },
   "source": [
    "**Answer:**<BR>\n",
    "I have definned some support functions:\n",
    "- conv2dmaxp, a convolutional with maxpooling\n",
    "- conv2dmaxpdrop, a convolutional with maxpooling and dropout\n",
    "- fc_drop, a full connected with relu and dropout\n",
    "- lin, just a linear layer\n",
    "\n",
    "The layer used are:\n",
    "- From input to 32 5x5 convolution with 2x2 maxpooling and not dropout<BR>\n",
    "    conv1=conv2dmaxp(x    ,weights['wc1'],biases['bc1'])<BR>\n",
    "- A convolution 64 5x5 convolution with 2x2 maxpooling and dropout 0.5<BR>\n",
    "    conv2=conv2dmaxpdrop(conv1,weights['wc2'],biases['bc2'])<BR>\n",
    "- Flatten the data<BR>\n",
    "    flat = tf.reshape(conv2, [-1, shape[1] * shape[2] * shape[3]])<BR>\n",
    "- Full connected 512 with relu and dropout 0.5<BR>\n",
    "    fc1 = fc_drop(flat,weights['wd1'], biases['bd1'],dropout)<BR>\n",
    "- Full connected 256 with relu and dropout 0.5<BR>\n",
    "    fc2 = fc_drop(fc1 ,weights['wd2'], biases['bd2'],dropout)<BR>\n",
    "- Linear 43 <BR>\n",
    "    out = lin(fc2, weights['out'], biases['out'])<BR>\n",
    "\n"
   ]
  },
  {
   "cell_type": "code",
   "execution_count": 10,
   "metadata": {
    "collapsed": true,
    "deletable": true,
    "editable": true
   },
   "outputs": [],
   "source": [
    "### Train your model here.\n",
    "### Feel free to use as many code cells as needed.\n",
    "\n",
    "epochs = 100\n",
    "\n",
    "# Gradient Descent\n",
    "#optimizer = tf.train.GradientDescentOptimizer(learning_rate).minimize(loss)    \n",
    "\n",
    "# The accuracy measured against the validation set\n",
    "validation_accuracy = 0.0\n",
    "\n",
    "# Measurements use for graphing loss and accuracy\n",
    "log_batch_step = 50\n",
    "batches = []\n",
    "loss_batch = []\n",
    "train_acc_batch = []\n",
    "valid_acc_batch = []\n",
    "\n",
    "saver=tf.train.Saver()"
   ]
  },
  {
   "cell_type": "code",
   "execution_count": 11,
   "metadata": {
    "collapsed": false,
    "deletable": true,
    "editable": true,
    "scrolled": false
   },
   "outputs": [
    {
     "name": "stderr",
     "output_type": "stream",
     "text": [
      "Epoch  1/100: 100%|██████████| 261/261 [00:10<00:00, 23.82batches/s]\n",
      "Epoch  2/100:   0%|          | 0/261 [00:00<?, ?batches/s]"
     ]
    },
    {
     "name": "stdout",
     "output_type": "stream",
     "text": [
      "Minibatch loss_val at epoch 0: 3.478144 val_accuracy=0.073959\n"
     ]
    },
    {
     "name": "stderr",
     "output_type": "stream",
     "text": [
      "Epoch  2/100: 100%|██████████| 261/261 [00:10<00:00, 24.10batches/s]\n",
      "Epoch  3/100:   0%|          | 0/261 [00:00<?, ?batches/s]"
     ]
    },
    {
     "name": "stdout",
     "output_type": "stream",
     "text": [
      "Minibatch loss_val at epoch 1: 3.213774 val_accuracy=0.140266\n"
     ]
    },
    {
     "name": "stderr",
     "output_type": "stream",
     "text": [
      "Epoch  3/100: 100%|██████████| 261/261 [00:10<00:00, 23.88batches/s]\n",
      "Epoch  4/100:   0%|          | 0/261 [00:00<?, ?batches/s]"
     ]
    },
    {
     "name": "stdout",
     "output_type": "stream",
     "text": [
      "Minibatch loss_val at epoch 2: 2.732824 val_accuracy=0.284500\n"
     ]
    },
    {
     "name": "stderr",
     "output_type": "stream",
     "text": [
      "Epoch  4/100: 100%|██████████| 261/261 [00:11<00:00, 23.56batches/s]\n",
      "Epoch  5/100:   0%|          | 0/261 [00:00<?, ?batches/s]"
     ]
    },
    {
     "name": "stdout",
     "output_type": "stream",
     "text": [
      "Minibatch loss_val at epoch 3: 1.913548 val_accuracy=0.419949\n"
     ]
    },
    {
     "name": "stderr",
     "output_type": "stream",
     "text": [
      "Epoch  5/100: 100%|██████████| 261/261 [00:11<00:00, 23.54batches/s]\n",
      "Epoch  6/100:   0%|          | 0/261 [00:00<?, ?batches/s]"
     ]
    },
    {
     "name": "stdout",
     "output_type": "stream",
     "text": [
      "Minibatch loss_val at epoch 4: 1.410797 val_accuracy=0.559932\n"
     ]
    },
    {
     "name": "stderr",
     "output_type": "stream",
     "text": [
      "Epoch  6/100: 100%|██████████| 261/261 [00:10<00:00, 23.78batches/s]\n",
      "Epoch  7/100:   0%|          | 0/261 [00:00<?, ?batches/s]"
     ]
    },
    {
     "name": "stdout",
     "output_type": "stream",
     "text": [
      "Minibatch loss_val at epoch 5: 0.866109 val_accuracy=0.722018\n"
     ]
    },
    {
     "name": "stderr",
     "output_type": "stream",
     "text": [
      "Epoch  7/100: 100%|██████████| 261/261 [00:11<00:00, 23.62batches/s]\n",
      "Epoch  8/100:   0%|          | 0/261 [00:00<?, ?batches/s]"
     ]
    },
    {
     "name": "stdout",
     "output_type": "stream",
     "text": [
      "Minibatch loss_val at epoch 6: 0.482307 val_accuracy=0.846699\n"
     ]
    },
    {
     "name": "stderr",
     "output_type": "stream",
     "text": [
      "Epoch  8/100: 100%|██████████| 261/261 [00:11<00:00, 23.62batches/s]\n",
      "Epoch  9/100:   0%|          | 0/261 [00:00<?, ?batches/s]"
     ]
    },
    {
     "name": "stdout",
     "output_type": "stream",
     "text": [
      "Minibatch loss_val at epoch 7: 0.331391 val_accuracy=0.886087\n"
     ]
    },
    {
     "name": "stderr",
     "output_type": "stream",
     "text": [
      "Epoch  9/100: 100%|██████████| 261/261 [00:10<00:00, 23.97batches/s]\n",
      "Epoch 10/100:   0%|          | 0/261 [00:00<?, ?batches/s]"
     ]
    },
    {
     "name": "stdout",
     "output_type": "stream",
     "text": [
      "Minibatch loss_val at epoch 8: 0.212998 val_accuracy=0.934259\n"
     ]
    },
    {
     "name": "stderr",
     "output_type": "stream",
     "text": [
      "Epoch 10/100: 100%|██████████| 261/261 [00:10<00:00, 23.76batches/s]\n",
      "Epoch 11/100:   0%|          | 0/261 [00:00<?, ?batches/s]"
     ]
    },
    {
     "name": "stdout",
     "output_type": "stream",
     "text": [
      "Minibatch loss_val at epoch 9: 0.152558 val_accuracy=0.945310\n"
     ]
    },
    {
     "name": "stderr",
     "output_type": "stream",
     "text": [
      "Epoch 11/100: 100%|██████████| 261/261 [00:11<00:00, 23.45batches/s]\n",
      "Epoch 12/100:   0%|          | 0/261 [00:00<?, ?batches/s]"
     ]
    },
    {
     "name": "stdout",
     "output_type": "stream",
     "text": [
      "Minibatch loss_val at epoch 10: 0.171926 val_accuracy=0.952678\n"
     ]
    },
    {
     "name": "stderr",
     "output_type": "stream",
     "text": [
      "Epoch 12/100: 100%|██████████| 261/261 [00:11<00:00, 23.60batches/s]\n",
      "Epoch 13/100:   0%|          | 0/261 [00:00<?, ?batches/s]"
     ]
    },
    {
     "name": "stdout",
     "output_type": "stream",
     "text": [
      "Minibatch loss_val at epoch 11: 0.118307 val_accuracy=0.959195\n"
     ]
    },
    {
     "name": "stderr",
     "output_type": "stream",
     "text": [
      "Epoch 13/100: 100%|██████████| 261/261 [00:11<00:00, 23.17batches/s]\n",
      "Epoch 14/100:   0%|          | 0/261 [00:00<?, ?batches/s]"
     ]
    },
    {
     "name": "stdout",
     "output_type": "stream",
     "text": [
      "Minibatch loss_val at epoch 12: 0.099473 val_accuracy=0.960895\n"
     ]
    },
    {
     "name": "stderr",
     "output_type": "stream",
     "text": [
      "Epoch 14/100: 100%|██████████| 261/261 [00:11<00:00, 23.16batches/s]\n",
      "Epoch 15/100:   0%|          | 0/261 [00:00<?, ?batches/s]"
     ]
    },
    {
     "name": "stdout",
     "output_type": "stream",
     "text": [
      "Minibatch loss_val at epoch 13: 0.100369 val_accuracy=0.969113\n"
     ]
    },
    {
     "name": "stderr",
     "output_type": "stream",
     "text": [
      "Epoch 15/100: 100%|██████████| 261/261 [00:11<00:00, 23.21batches/s]\n",
      "Epoch 16/100:   0%|          | 0/261 [00:00<?, ?batches/s]"
     ]
    },
    {
     "name": "stdout",
     "output_type": "stream",
     "text": [
      "Minibatch loss_val at epoch 14: 0.078784 val_accuracy=0.974497\n"
     ]
    },
    {
     "name": "stderr",
     "output_type": "stream",
     "text": [
      "Epoch 16/100: 100%|██████████| 261/261 [00:11<00:00, 23.46batches/s]\n",
      "Epoch 17/100:   0%|          | 0/261 [00:00<?, ?batches/s]"
     ]
    },
    {
     "name": "stdout",
     "output_type": "stream",
     "text": [
      "Minibatch loss_val at epoch 15: 0.123582 val_accuracy=0.973080\n"
     ]
    },
    {
     "name": "stderr",
     "output_type": "stream",
     "text": [
      "Epoch 17/100: 100%|██████████| 261/261 [00:11<00:00, 23.49batches/s]\n",
      "Epoch 18/100:   0%|          | 0/261 [00:00<?, ?batches/s]"
     ]
    },
    {
     "name": "stdout",
     "output_type": "stream",
     "text": [
      "Minibatch loss_val at epoch 16: 0.028550 val_accuracy=0.973647\n"
     ]
    },
    {
     "name": "stderr",
     "output_type": "stream",
     "text": [
      "Epoch 18/100: 100%|██████████| 261/261 [00:10<00:00, 23.74batches/s]\n",
      "Epoch 19/100:   0%|          | 0/261 [00:00<?, ?batches/s]"
     ]
    },
    {
     "name": "stdout",
     "output_type": "stream",
     "text": [
      "Minibatch loss_val at epoch 17: 0.033885 val_accuracy=0.977897\n"
     ]
    },
    {
     "name": "stderr",
     "output_type": "stream",
     "text": [
      "Epoch 19/100: 100%|██████████| 261/261 [00:11<00:00, 23.32batches/s]\n",
      "Epoch 20/100:   0%|          | 0/261 [00:00<?, ?batches/s]"
     ]
    },
    {
     "name": "stdout",
     "output_type": "stream",
     "text": [
      "Minibatch loss_val at epoch 18: 0.071144 val_accuracy=0.982148\n"
     ]
    },
    {
     "name": "stderr",
     "output_type": "stream",
     "text": [
      "Epoch 20/100: 100%|██████████| 261/261 [00:11<00:00, 23.36batches/s]\n",
      "Epoch 21/100:   0%|          | 0/261 [00:00<?, ?batches/s]"
     ]
    },
    {
     "name": "stdout",
     "output_type": "stream",
     "text": [
      "Minibatch loss_val at epoch 19: 0.027208 val_accuracy=0.982715\n"
     ]
    },
    {
     "name": "stderr",
     "output_type": "stream",
     "text": [
      "Epoch 21/100: 100%|██████████| 261/261 [00:11<00:00, 23.57batches/s]\n",
      "Epoch 22/100:   0%|          | 0/261 [00:00<?, ?batches/s]"
     ]
    },
    {
     "name": "stdout",
     "output_type": "stream",
     "text": [
      "Minibatch loss_val at epoch 20: 0.042867 val_accuracy=0.975064\n"
     ]
    },
    {
     "name": "stderr",
     "output_type": "stream",
     "text": [
      "Epoch 22/100: 100%|██████████| 261/261 [00:10<00:00, 23.90batches/s]\n",
      "Epoch 23/100:   0%|          | 0/261 [00:00<?, ?batches/s]"
     ]
    },
    {
     "name": "stdout",
     "output_type": "stream",
     "text": [
      "Minibatch loss_val at epoch 21: 0.013084 val_accuracy=0.986682\n"
     ]
    },
    {
     "name": "stderr",
     "output_type": "stream",
     "text": [
      "Epoch 23/100: 100%|██████████| 261/261 [00:11<00:00, 23.44batches/s]\n",
      "Epoch 24/100:   0%|          | 0/261 [00:00<?, ?batches/s]"
     ]
    },
    {
     "name": "stdout",
     "output_type": "stream",
     "text": [
      "Minibatch loss_val at epoch 22: 0.013885 val_accuracy=0.984415\n"
     ]
    },
    {
     "name": "stderr",
     "output_type": "stream",
     "text": [
      "Epoch 24/100: 100%|██████████| 261/261 [00:11<00:00, 23.67batches/s]\n",
      "Epoch 25/100:   0%|          | 0/261 [00:00<?, ?batches/s]"
     ]
    },
    {
     "name": "stdout",
     "output_type": "stream",
     "text": [
      "Minibatch loss_val at epoch 23: 0.014089 val_accuracy=0.984698\n"
     ]
    },
    {
     "name": "stderr",
     "output_type": "stream",
     "text": [
      "Epoch 25/100: 100%|██████████| 261/261 [00:11<00:00, 23.54batches/s]\n",
      "Epoch 26/100:   0%|          | 0/261 [00:00<?, ?batches/s]"
     ]
    },
    {
     "name": "stdout",
     "output_type": "stream",
     "text": [
      "Minibatch loss_val at epoch 24: 0.107705 val_accuracy=0.979031\n"
     ]
    },
    {
     "name": "stderr",
     "output_type": "stream",
     "text": [
      "Epoch 26/100: 100%|██████████| 261/261 [00:11<00:00, 23.28batches/s]\n",
      "Epoch 27/100:   0%|          | 0/261 [00:00<?, ?batches/s]"
     ]
    },
    {
     "name": "stdout",
     "output_type": "stream",
     "text": [
      "Minibatch loss_val at epoch 25: 0.028386 val_accuracy=0.983565\n"
     ]
    },
    {
     "name": "stderr",
     "output_type": "stream",
     "text": [
      "Epoch 27/100: 100%|██████████| 261/261 [00:11<00:00, 23.39batches/s]\n",
      "Epoch 28/100:   0%|          | 0/261 [00:00<?, ?batches/s]"
     ]
    },
    {
     "name": "stdout",
     "output_type": "stream",
     "text": [
      "Minibatch loss_val at epoch 26: 0.051064 val_accuracy=0.986682\n"
     ]
    },
    {
     "name": "stderr",
     "output_type": "stream",
     "text": [
      "Epoch 28/100: 100%|██████████| 261/261 [00:11<00:00, 23.69batches/s]\n",
      "Epoch 29/100:   0%|          | 0/261 [00:00<?, ?batches/s]"
     ]
    },
    {
     "name": "stdout",
     "output_type": "stream",
     "text": [
      "Minibatch loss_val at epoch 27: 0.018252 val_accuracy=0.986682\n"
     ]
    },
    {
     "name": "stderr",
     "output_type": "stream",
     "text": [
      "Epoch 29/100: 100%|██████████| 261/261 [00:11<00:00, 23.47batches/s]\n",
      "Epoch 30/100:   0%|          | 0/261 [00:00<?, ?batches/s]"
     ]
    },
    {
     "name": "stdout",
     "output_type": "stream",
     "text": [
      "Minibatch loss_val at epoch 28: 0.009316 val_accuracy=0.979031\n"
     ]
    },
    {
     "name": "stderr",
     "output_type": "stream",
     "text": [
      "Epoch 30/100: 100%|██████████| 261/261 [00:11<00:00, 23.48batches/s]\n",
      "Epoch 31/100:   0%|          | 0/261 [00:00<?, ?batches/s]"
     ]
    },
    {
     "name": "stdout",
     "output_type": "stream",
     "text": [
      "Minibatch loss_val at epoch 29: 0.010653 val_accuracy=0.985832\n"
     ]
    },
    {
     "name": "stderr",
     "output_type": "stream",
     "text": [
      "Epoch 31/100: 100%|██████████| 261/261 [00:11<00:00, 23.50batches/s]\n",
      "Epoch 32/100:   0%|          | 0/261 [00:00<?, ?batches/s]"
     ]
    },
    {
     "name": "stdout",
     "output_type": "stream",
     "text": [
      "Minibatch loss_val at epoch 30: 0.008489 val_accuracy=0.984415\n"
     ]
    },
    {
     "name": "stderr",
     "output_type": "stream",
     "text": [
      "Epoch 32/100: 100%|██████████| 261/261 [00:11<00:00, 23.71batches/s]\n",
      "Epoch 33/100:   0%|          | 0/261 [00:00<?, ?batches/s]"
     ]
    },
    {
     "name": "stdout",
     "output_type": "stream",
     "text": [
      "Minibatch loss_val at epoch 31: 0.006421 val_accuracy=0.986682\n"
     ]
    },
    {
     "name": "stderr",
     "output_type": "stream",
     "text": [
      "Epoch 33/100: 100%|██████████| 261/261 [00:11<00:00, 23.44batches/s]\n",
      "Epoch 34/100:   0%|          | 0/261 [00:00<?, ?batches/s]"
     ]
    },
    {
     "name": "stdout",
     "output_type": "stream",
     "text": [
      "Minibatch loss_val at epoch 32: 0.007492 val_accuracy=0.986115\n"
     ]
    },
    {
     "name": "stderr",
     "output_type": "stream",
     "text": [
      "Epoch 34/100: 100%|██████████| 261/261 [00:11<00:00, 23.72batches/s]\n",
      "Epoch 35/100:   0%|          | 0/261 [00:00<?, ?batches/s]"
     ]
    },
    {
     "name": "stdout",
     "output_type": "stream",
     "text": [
      "Minibatch loss_val at epoch 33: 0.002888 val_accuracy=0.988099\n"
     ]
    },
    {
     "name": "stderr",
     "output_type": "stream",
     "text": [
      "Epoch 35/100: 100%|██████████| 261/261 [00:11<00:00, 23.64batches/s]\n",
      "Epoch 36/100:   0%|          | 0/261 [00:00<?, ?batches/s]"
     ]
    },
    {
     "name": "stdout",
     "output_type": "stream",
     "text": [
      "Minibatch loss_val at epoch 34: 0.045447 val_accuracy=0.989232\n"
     ]
    },
    {
     "name": "stderr",
     "output_type": "stream",
     "text": [
      "Epoch 36/100: 100%|██████████| 261/261 [00:11<00:00, 23.43batches/s]\n",
      "Epoch 37/100:   0%|          | 0/261 [00:00<?, ?batches/s]"
     ]
    },
    {
     "name": "stdout",
     "output_type": "stream",
     "text": [
      "Minibatch loss_val at epoch 35: 0.062602 val_accuracy=0.986965\n"
     ]
    },
    {
     "name": "stderr",
     "output_type": "stream",
     "text": [
      "Epoch 37/100: 100%|██████████| 261/261 [00:11<00:00, 23.39batches/s]\n",
      "Epoch 38/100:   0%|          | 0/261 [00:00<?, ?batches/s]"
     ]
    },
    {
     "name": "stdout",
     "output_type": "stream",
     "text": [
      "Minibatch loss_val at epoch 36: 0.094638 val_accuracy=0.989515\n"
     ]
    },
    {
     "name": "stderr",
     "output_type": "stream",
     "text": [
      "Epoch 38/100: 100%|██████████| 261/261 [00:11<00:00, 23.43batches/s]\n",
      "Epoch 39/100:   0%|          | 0/261 [00:00<?, ?batches/s]"
     ]
    },
    {
     "name": "stdout",
     "output_type": "stream",
     "text": [
      "Minibatch loss_val at epoch 37: 0.068365 val_accuracy=0.987815\n"
     ]
    },
    {
     "name": "stderr",
     "output_type": "stream",
     "text": [
      "Epoch 39/100: 100%|██████████| 261/261 [00:11<00:00, 23.58batches/s]\n",
      "Epoch 40/100:   0%|          | 0/261 [00:00<?, ?batches/s]"
     ]
    },
    {
     "name": "stdout",
     "output_type": "stream",
     "text": [
      "Minibatch loss_val at epoch 38: 0.003674 val_accuracy=0.988382\n"
     ]
    },
    {
     "name": "stderr",
     "output_type": "stream",
     "text": [
      "Epoch 40/100: 100%|██████████| 261/261 [00:11<00:00, 23.16batches/s]\n",
      "Epoch 41/100:   0%|          | 0/261 [00:00<?, ?batches/s]"
     ]
    },
    {
     "name": "stdout",
     "output_type": "stream",
     "text": [
      "Minibatch loss_val at epoch 39: 0.021754 val_accuracy=0.988949\n"
     ]
    },
    {
     "name": "stderr",
     "output_type": "stream",
     "text": [
      "Epoch 41/100: 100%|██████████| 261/261 [00:11<00:00, 23.35batches/s]\n",
      "Epoch 42/100:   0%|          | 0/261 [00:00<?, ?batches/s]"
     ]
    },
    {
     "name": "stdout",
     "output_type": "stream",
     "text": [
      "Minibatch loss_val at epoch 40: 0.000847 val_accuracy=0.989515\n"
     ]
    },
    {
     "name": "stderr",
     "output_type": "stream",
     "text": [
      "Epoch 42/100: 100%|██████████| 261/261 [00:11<00:00, 23.30batches/s]\n",
      "Epoch 43/100:   0%|          | 0/261 [00:00<?, ?batches/s]"
     ]
    },
    {
     "name": "stdout",
     "output_type": "stream",
     "text": [
      "Minibatch loss_val at epoch 41: 0.047725 val_accuracy=0.987815\n"
     ]
    },
    {
     "name": "stderr",
     "output_type": "stream",
     "text": [
      "Epoch 43/100: 100%|██████████| 261/261 [00:11<00:00, 23.53batches/s]\n",
      "Epoch 44/100:   0%|          | 0/261 [00:00<?, ?batches/s]"
     ]
    },
    {
     "name": "stdout",
     "output_type": "stream",
     "text": [
      "Minibatch loss_val at epoch 42: 0.019302 val_accuracy=0.988382\n"
     ]
    },
    {
     "name": "stderr",
     "output_type": "stream",
     "text": [
      "Epoch 44/100: 100%|██████████| 261/261 [00:11<00:00, 23.58batches/s]\n",
      "Epoch 45/100:   0%|          | 0/261 [00:00<?, ?batches/s]"
     ]
    },
    {
     "name": "stdout",
     "output_type": "stream",
     "text": [
      "Minibatch loss_val at epoch 43: 0.002015 val_accuracy=0.989515\n"
     ]
    },
    {
     "name": "stderr",
     "output_type": "stream",
     "text": [
      "Epoch 45/100: 100%|██████████| 261/261 [00:11<00:00, 23.43batches/s]\n",
      "Epoch 46/100:   0%|          | 0/261 [00:00<?, ?batches/s]"
     ]
    },
    {
     "name": "stdout",
     "output_type": "stream",
     "text": [
      "Minibatch loss_val at epoch 44: 0.002382 val_accuracy=0.987248\n"
     ]
    },
    {
     "name": "stderr",
     "output_type": "stream",
     "text": [
      "Epoch 46/100: 100%|██████████| 261/261 [00:11<00:00, 23.60batches/s]\n",
      "Epoch 47/100:   0%|          | 0/261 [00:00<?, ?batches/s]"
     ]
    },
    {
     "name": "stdout",
     "output_type": "stream",
     "text": [
      "Minibatch loss_val at epoch 45: 0.006278 val_accuracy=0.990082\n"
     ]
    },
    {
     "name": "stderr",
     "output_type": "stream",
     "text": [
      "Epoch 47/100: 100%|██████████| 261/261 [00:10<00:00, 23.89batches/s]\n",
      "Epoch 48/100:   0%|          | 0/261 [00:00<?, ?batches/s]"
     ]
    },
    {
     "name": "stdout",
     "output_type": "stream",
     "text": [
      "Minibatch loss_val at epoch 46: 0.002839 val_accuracy=0.988949\n"
     ]
    },
    {
     "name": "stderr",
     "output_type": "stream",
     "text": [
      "Epoch 48/100: 100%|██████████| 261/261 [00:10<00:00, 23.95batches/s]\n",
      "Epoch 49/100:   0%|          | 0/261 [00:00<?, ?batches/s]"
     ]
    },
    {
     "name": "stdout",
     "output_type": "stream",
     "text": [
      "Minibatch loss_val at epoch 47: 0.010791 val_accuracy=0.988099\n"
     ]
    },
    {
     "name": "stderr",
     "output_type": "stream",
     "text": [
      "Epoch 49/100: 100%|██████████| 261/261 [00:11<00:00, 23.50batches/s]\n",
      "Epoch 50/100:   0%|          | 0/261 [00:00<?, ?batches/s]"
     ]
    },
    {
     "name": "stdout",
     "output_type": "stream",
     "text": [
      "Minibatch loss_val at epoch 48: 0.033318 val_accuracy=0.979314\n"
     ]
    },
    {
     "name": "stderr",
     "output_type": "stream",
     "text": [
      "Epoch 50/100: 100%|██████████| 261/261 [00:11<00:00, 23.50batches/s]\n",
      "Epoch 51/100:   0%|          | 0/261 [00:00<?, ?batches/s]"
     ]
    },
    {
     "name": "stdout",
     "output_type": "stream",
     "text": [
      "Minibatch loss_val at epoch 49: 0.034352 val_accuracy=0.990932\n"
     ]
    },
    {
     "name": "stderr",
     "output_type": "stream",
     "text": [
      "Epoch 51/100: 100%|██████████| 261/261 [00:11<00:00, 23.32batches/s]\n",
      "Epoch 52/100:   0%|          | 0/261 [00:00<?, ?batches/s]"
     ]
    },
    {
     "name": "stdout",
     "output_type": "stream",
     "text": [
      "Minibatch loss_val at epoch 50: 0.002103 val_accuracy=0.990932\n"
     ]
    },
    {
     "name": "stderr",
     "output_type": "stream",
     "text": [
      "Epoch 52/100: 100%|██████████| 261/261 [00:11<00:00, 23.63batches/s]\n",
      "Epoch 53/100:   0%|          | 0/261 [00:00<?, ?batches/s]"
     ]
    },
    {
     "name": "stdout",
     "output_type": "stream",
     "text": [
      "Minibatch loss_val at epoch 51: 0.002879 val_accuracy=0.991782\n"
     ]
    },
    {
     "name": "stderr",
     "output_type": "stream",
     "text": [
      "Epoch 53/100: 100%|██████████| 261/261 [00:10<00:00, 23.82batches/s]\n",
      "Epoch 54/100:   0%|          | 0/261 [00:00<?, ?batches/s]"
     ]
    },
    {
     "name": "stdout",
     "output_type": "stream",
     "text": [
      "Minibatch loss_val at epoch 52: 0.026100 val_accuracy=0.989799\n"
     ]
    },
    {
     "name": "stderr",
     "output_type": "stream",
     "text": [
      "Epoch 54/100: 100%|██████████| 261/261 [00:11<00:00, 23.46batches/s]\n",
      "Epoch 55/100:   0%|          | 0/261 [00:00<?, ?batches/s]"
     ]
    },
    {
     "name": "stdout",
     "output_type": "stream",
     "text": [
      "Minibatch loss_val at epoch 53: 0.022055 val_accuracy=0.979031\n"
     ]
    },
    {
     "name": "stderr",
     "output_type": "stream",
     "text": [
      "Epoch 55/100: 100%|██████████| 261/261 [00:11<00:00, 23.62batches/s]\n",
      "Epoch 56/100:   0%|          | 0/261 [00:00<?, ?batches/s]"
     ]
    },
    {
     "name": "stdout",
     "output_type": "stream",
     "text": [
      "Minibatch loss_val at epoch 54: 0.000434 val_accuracy=0.991499\n"
     ]
    },
    {
     "name": "stderr",
     "output_type": "stream",
     "text": [
      "Epoch 56/100: 100%|██████████| 261/261 [00:11<00:00, 23.54batches/s]\n",
      "Epoch 57/100:   0%|          | 0/261 [00:00<?, ?batches/s]"
     ]
    },
    {
     "name": "stdout",
     "output_type": "stream",
     "text": [
      "Minibatch loss_val at epoch 55: 0.010233 val_accuracy=0.984415\n"
     ]
    },
    {
     "name": "stderr",
     "output_type": "stream",
     "text": [
      "Epoch 57/100: 100%|██████████| 261/261 [00:11<00:00, 23.57batches/s]\n",
      "Epoch 58/100:   0%|          | 0/261 [00:00<?, ?batches/s]"
     ]
    },
    {
     "name": "stdout",
     "output_type": "stream",
     "text": [
      "Minibatch loss_val at epoch 56: 0.024406 val_accuracy=0.991782\n"
     ]
    },
    {
     "name": "stderr",
     "output_type": "stream",
     "text": [
      "Epoch 58/100: 100%|██████████| 261/261 [00:10<00:00, 23.94batches/s]\n",
      "Epoch 59/100:   0%|          | 0/261 [00:00<?, ?batches/s]"
     ]
    },
    {
     "name": "stdout",
     "output_type": "stream",
     "text": [
      "Minibatch loss_val at epoch 57: 0.010247 val_accuracy=0.987248\n"
     ]
    },
    {
     "name": "stderr",
     "output_type": "stream",
     "text": [
      "Epoch 59/100: 100%|██████████| 261/261 [00:10<00:00, 23.73batches/s]\n",
      "Epoch 60/100:   0%|          | 0/261 [00:00<?, ?batches/s]"
     ]
    },
    {
     "name": "stdout",
     "output_type": "stream",
     "text": [
      "Minibatch loss_val at epoch 58: 0.027147 val_accuracy=0.992916\n"
     ]
    },
    {
     "name": "stderr",
     "output_type": "stream",
     "text": [
      "Epoch 60/100: 100%|██████████| 261/261 [00:11<00:00, 23.73batches/s]\n",
      "Epoch 61/100:   0%|          | 0/261 [00:00<?, ?batches/s]"
     ]
    },
    {
     "name": "stdout",
     "output_type": "stream",
     "text": [
      "Minibatch loss_val at epoch 59: 0.053610 val_accuracy=0.991216\n"
     ]
    },
    {
     "name": "stderr",
     "output_type": "stream",
     "text": [
      "Epoch 61/100: 100%|██████████| 261/261 [00:11<00:00, 23.70batches/s]\n",
      "Epoch 62/100:   0%|          | 0/261 [00:00<?, ?batches/s]"
     ]
    },
    {
     "name": "stdout",
     "output_type": "stream",
     "text": [
      "Minibatch loss_val at epoch 60: 0.007948 val_accuracy=0.989799\n"
     ]
    },
    {
     "name": "stderr",
     "output_type": "stream",
     "text": [
      "Epoch 62/100: 100%|██████████| 261/261 [00:11<00:00, 23.09batches/s]\n",
      "Epoch 63/100:   0%|          | 0/261 [00:00<?, ?batches/s]"
     ]
    },
    {
     "name": "stdout",
     "output_type": "stream",
     "text": [
      "Minibatch loss_val at epoch 61: 0.002128 val_accuracy=0.990649\n"
     ]
    },
    {
     "name": "stderr",
     "output_type": "stream",
     "text": [
      "Epoch 63/100: 100%|██████████| 261/261 [00:11<00:00, 23.61batches/s]\n",
      "Epoch 64/100:   0%|          | 0/261 [00:00<?, ?batches/s]"
     ]
    },
    {
     "name": "stdout",
     "output_type": "stream",
     "text": [
      "Minibatch loss_val at epoch 62: 0.001259 val_accuracy=0.992066\n"
     ]
    },
    {
     "name": "stderr",
     "output_type": "stream",
     "text": [
      "Epoch 64/100: 100%|██████████| 261/261 [00:11<00:00, 23.52batches/s]\n",
      "Epoch 65/100:   0%|          | 0/261 [00:00<?, ?batches/s]"
     ]
    },
    {
     "name": "stdout",
     "output_type": "stream",
     "text": [
      "Minibatch loss_val at epoch 63: 0.002108 val_accuracy=0.991782\n"
     ]
    },
    {
     "name": "stderr",
     "output_type": "stream",
     "text": [
      "Epoch 65/100: 100%|██████████| 261/261 [00:11<00:00, 23.61batches/s]\n",
      "Epoch 66/100:   0%|          | 0/261 [00:00<?, ?batches/s]"
     ]
    },
    {
     "name": "stdout",
     "output_type": "stream",
     "text": [
      "Minibatch loss_val at epoch 64: 0.000260 val_accuracy=0.992916\n"
     ]
    },
    {
     "name": "stderr",
     "output_type": "stream",
     "text": [
      "Epoch 66/100: 100%|██████████| 261/261 [00:11<00:00, 23.12batches/s]\n",
      "Epoch 67/100:   0%|          | 0/261 [00:00<?, ?batches/s]"
     ]
    },
    {
     "name": "stdout",
     "output_type": "stream",
     "text": [
      "Minibatch loss_val at epoch 65: 0.004377 val_accuracy=0.992632\n"
     ]
    },
    {
     "name": "stderr",
     "output_type": "stream",
     "text": [
      "Epoch 67/100: 100%|██████████| 261/261 [00:11<00:00, 23.35batches/s]\n",
      "Epoch 68/100:   0%|          | 0/261 [00:00<?, ?batches/s]"
     ]
    },
    {
     "name": "stdout",
     "output_type": "stream",
     "text": [
      "Minibatch loss_val at epoch 66: 0.001549 val_accuracy=0.991499\n"
     ]
    },
    {
     "name": "stderr",
     "output_type": "stream",
     "text": [
      "Epoch 68/100: 100%|██████████| 261/261 [00:11<00:00, 23.53batches/s]\n",
      "Epoch 69/100:   0%|          | 0/261 [00:00<?, ?batches/s]"
     ]
    },
    {
     "name": "stdout",
     "output_type": "stream",
     "text": [
      "Minibatch loss_val at epoch 67: 0.001629 val_accuracy=0.993482\n"
     ]
    },
    {
     "name": "stderr",
     "output_type": "stream",
     "text": [
      "Epoch 69/100: 100%|██████████| 261/261 [00:11<00:00, 23.58batches/s]\n",
      "Epoch 70/100:   0%|          | 0/261 [00:00<?, ?batches/s]"
     ]
    },
    {
     "name": "stdout",
     "output_type": "stream",
     "text": [
      "Minibatch loss_val at epoch 68: 0.003898 val_accuracy=0.992632\n"
     ]
    },
    {
     "name": "stderr",
     "output_type": "stream",
     "text": [
      "Epoch 70/100: 100%|██████████| 261/261 [00:11<00:00, 23.68batches/s]\n",
      "Epoch 71/100:   0%|          | 0/261 [00:00<?, ?batches/s]"
     ]
    },
    {
     "name": "stdout",
     "output_type": "stream",
     "text": [
      "Minibatch loss_val at epoch 69: 0.000889 val_accuracy=0.993199\n"
     ]
    },
    {
     "name": "stderr",
     "output_type": "stream",
     "text": [
      "Epoch 71/100: 100%|██████████| 261/261 [00:11<00:00, 23.19batches/s]\n",
      "Epoch 72/100:   0%|          | 0/261 [00:00<?, ?batches/s]"
     ]
    },
    {
     "name": "stdout",
     "output_type": "stream",
     "text": [
      "Minibatch loss_val at epoch 70: 0.001523 val_accuracy=0.990649\n"
     ]
    },
    {
     "name": "stderr",
     "output_type": "stream",
     "text": [
      "Epoch 72/100: 100%|██████████| 261/261 [00:11<00:00, 23.71batches/s]\n",
      "Epoch 73/100:   0%|          | 0/261 [00:00<?, ?batches/s]"
     ]
    },
    {
     "name": "stdout",
     "output_type": "stream",
     "text": [
      "Minibatch loss_val at epoch 71: 0.008566 val_accuracy=0.990649\n"
     ]
    },
    {
     "name": "stderr",
     "output_type": "stream",
     "text": [
      "Epoch 73/100: 100%|██████████| 261/261 [00:11<00:00, 23.59batches/s]\n",
      "Epoch 74/100:   0%|          | 0/261 [00:00<?, ?batches/s]"
     ]
    },
    {
     "name": "stdout",
     "output_type": "stream",
     "text": [
      "Minibatch loss_val at epoch 72: 0.040929 val_accuracy=0.992349\n"
     ]
    },
    {
     "name": "stderr",
     "output_type": "stream",
     "text": [
      "Epoch 74/100: 100%|██████████| 261/261 [00:11<00:00, 23.41batches/s]\n",
      "Epoch 75/100:   0%|          | 0/261 [00:00<?, ?batches/s]"
     ]
    },
    {
     "name": "stdout",
     "output_type": "stream",
     "text": [
      "Minibatch loss_val at epoch 73: 0.013399 val_accuracy=0.991782\n"
     ]
    },
    {
     "name": "stderr",
     "output_type": "stream",
     "text": [
      "Epoch 75/100: 100%|██████████| 261/261 [00:11<00:00, 23.32batches/s]\n",
      "Epoch 76/100:   0%|          | 0/261 [00:00<?, ?batches/s]"
     ]
    },
    {
     "name": "stdout",
     "output_type": "stream",
     "text": [
      "Minibatch loss_val at epoch 74: 0.000140 val_accuracy=0.993199\n"
     ]
    },
    {
     "name": "stderr",
     "output_type": "stream",
     "text": [
      "Epoch 76/100: 100%|██████████| 261/261 [00:11<00:00, 23.08batches/s]\n",
      "Epoch 77/100:   0%|          | 0/261 [00:00<?, ?batches/s]"
     ]
    },
    {
     "name": "stdout",
     "output_type": "stream",
     "text": [
      "Minibatch loss_val at epoch 75: 0.000240 val_accuracy=0.992349\n"
     ]
    },
    {
     "name": "stderr",
     "output_type": "stream",
     "text": [
      "Epoch 77/100: 100%|██████████| 261/261 [00:11<00:00, 23.41batches/s]\n",
      "Epoch 78/100:   0%|          | 0/261 [00:00<?, ?batches/s]"
     ]
    },
    {
     "name": "stdout",
     "output_type": "stream",
     "text": [
      "Minibatch loss_val at epoch 76: 0.002167 val_accuracy=0.991782\n"
     ]
    },
    {
     "name": "stderr",
     "output_type": "stream",
     "text": [
      "Epoch 78/100: 100%|██████████| 261/261 [00:11<00:00, 23.50batches/s]\n",
      "Epoch 79/100:   0%|          | 0/261 [00:00<?, ?batches/s]"
     ]
    },
    {
     "name": "stdout",
     "output_type": "stream",
     "text": [
      "Minibatch loss_val at epoch 77: 0.004635 val_accuracy=0.994899\n"
     ]
    },
    {
     "name": "stderr",
     "output_type": "stream",
     "text": [
      "Epoch 79/100: 100%|██████████| 261/261 [00:11<00:00, 23.55batches/s]\n",
      "Epoch 80/100:   0%|          | 0/261 [00:00<?, ?batches/s]"
     ]
    },
    {
     "name": "stdout",
     "output_type": "stream",
     "text": [
      "Minibatch loss_val at epoch 78: 0.012109 val_accuracy=0.990649\n"
     ]
    },
    {
     "name": "stderr",
     "output_type": "stream",
     "text": [
      "Epoch 80/100: 100%|██████████| 261/261 [00:11<00:00, 23.60batches/s]\n",
      "Epoch 81/100:   0%|          | 0/261 [00:00<?, ?batches/s]"
     ]
    },
    {
     "name": "stdout",
     "output_type": "stream",
     "text": [
      "Minibatch loss_val at epoch 79: 0.000379 val_accuracy=0.991499\n"
     ]
    },
    {
     "name": "stderr",
     "output_type": "stream",
     "text": [
      "Epoch 81/100: 100%|██████████| 261/261 [00:11<00:00, 23.59batches/s]\n",
      "Epoch 82/100:   0%|          | 0/261 [00:00<?, ?batches/s]"
     ]
    },
    {
     "name": "stdout",
     "output_type": "stream",
     "text": [
      "Minibatch loss_val at epoch 80: 0.006039 val_accuracy=0.991782\n"
     ]
    },
    {
     "name": "stderr",
     "output_type": "stream",
     "text": [
      "Epoch 82/100: 100%|██████████| 261/261 [00:11<00:00, 23.58batches/s]\n",
      "Epoch 83/100:   0%|          | 0/261 [00:00<?, ?batches/s]"
     ]
    },
    {
     "name": "stdout",
     "output_type": "stream",
     "text": [
      "Minibatch loss_val at epoch 81: 0.011581 val_accuracy=0.986965\n"
     ]
    },
    {
     "name": "stderr",
     "output_type": "stream",
     "text": [
      "Epoch 83/100: 100%|██████████| 261/261 [00:11<00:00, 23.01batches/s]\n",
      "Epoch 84/100:   0%|          | 0/261 [00:00<?, ?batches/s]"
     ]
    },
    {
     "name": "stdout",
     "output_type": "stream",
     "text": [
      "Minibatch loss_val at epoch 82: 0.002237 val_accuracy=0.988382\n"
     ]
    },
    {
     "name": "stderr",
     "output_type": "stream",
     "text": [
      "Epoch 84/100: 100%|██████████| 261/261 [00:11<00:00, 23.14batches/s]\n",
      "Epoch 85/100:   0%|          | 0/261 [00:00<?, ?batches/s]"
     ]
    },
    {
     "name": "stdout",
     "output_type": "stream",
     "text": [
      "Minibatch loss_val at epoch 83: 0.000386 val_accuracy=0.989799\n"
     ]
    },
    {
     "name": "stderr",
     "output_type": "stream",
     "text": [
      "Epoch 85/100: 100%|██████████| 261/261 [00:11<00:00, 23.18batches/s]\n",
      "Epoch 86/100:   0%|          | 0/261 [00:00<?, ?batches/s]"
     ]
    },
    {
     "name": "stdout",
     "output_type": "stream",
     "text": [
      "Minibatch loss_val at epoch 84: 0.000165 val_accuracy=0.992349\n"
     ]
    },
    {
     "name": "stderr",
     "output_type": "stream",
     "text": [
      "Epoch 86/100: 100%|██████████| 261/261 [00:11<00:00, 23.33batches/s]\n",
      "Epoch 87/100:   0%|          | 0/261 [00:00<?, ?batches/s]"
     ]
    },
    {
     "name": "stdout",
     "output_type": "stream",
     "text": [
      "Minibatch loss_val at epoch 85: 0.029363 val_accuracy=0.989799\n"
     ]
    },
    {
     "name": "stderr",
     "output_type": "stream",
     "text": [
      "Epoch 87/100: 100%|██████████| 261/261 [00:11<00:00, 23.58batches/s]\n",
      "Epoch 88/100:   0%|          | 0/261 [00:00<?, ?batches/s]"
     ]
    },
    {
     "name": "stdout",
     "output_type": "stream",
     "text": [
      "Minibatch loss_val at epoch 86: 0.000263 val_accuracy=0.994049\n"
     ]
    },
    {
     "name": "stderr",
     "output_type": "stream",
     "text": [
      "Epoch 88/100: 100%|██████████| 261/261 [00:11<00:00, 23.48batches/s]\n",
      "Epoch 89/100:   0%|          | 0/261 [00:00<?, ?batches/s]"
     ]
    },
    {
     "name": "stdout",
     "output_type": "stream",
     "text": [
      "Minibatch loss_val at epoch 87: 0.000878 val_accuracy=0.989515\n"
     ]
    },
    {
     "name": "stderr",
     "output_type": "stream",
     "text": [
      "Epoch 89/100: 100%|██████████| 261/261 [00:11<00:00, 23.34batches/s]\n",
      "Epoch 90/100:   0%|          | 0/261 [00:00<?, ?batches/s]"
     ]
    },
    {
     "name": "stdout",
     "output_type": "stream",
     "text": [
      "Minibatch loss_val at epoch 88: 0.017610 val_accuracy=0.988099\n"
     ]
    },
    {
     "name": "stderr",
     "output_type": "stream",
     "text": [
      "Epoch 90/100: 100%|██████████| 261/261 [00:10<00:00, 23.91batches/s]\n",
      "Epoch 91/100:   0%|          | 0/261 [00:00<?, ?batches/s]"
     ]
    },
    {
     "name": "stdout",
     "output_type": "stream",
     "text": [
      "Minibatch loss_val at epoch 89: 0.006421 val_accuracy=0.992632\n"
     ]
    },
    {
     "name": "stderr",
     "output_type": "stream",
     "text": [
      "Epoch 91/100: 100%|██████████| 261/261 [00:11<00:00, 23.72batches/s]\n",
      "Epoch 92/100:   0%|          | 0/261 [00:00<?, ?batches/s]"
     ]
    },
    {
     "name": "stdout",
     "output_type": "stream",
     "text": [
      "Minibatch loss_val at epoch 90: 0.002795 val_accuracy=0.992632\n"
     ]
    },
    {
     "name": "stderr",
     "output_type": "stream",
     "text": [
      "Epoch 92/100: 100%|██████████| 261/261 [00:11<00:00, 23.69batches/s]\n",
      "Epoch 93/100:   0%|          | 0/261 [00:00<?, ?batches/s]"
     ]
    },
    {
     "name": "stdout",
     "output_type": "stream",
     "text": [
      "Minibatch loss_val at epoch 91: 0.002772 val_accuracy=0.974497\n"
     ]
    },
    {
     "name": "stderr",
     "output_type": "stream",
     "text": [
      "Epoch 93/100: 100%|██████████| 261/261 [00:11<00:00, 23.61batches/s]\n",
      "Epoch 94/100:   0%|          | 0/261 [00:00<?, ?batches/s]"
     ]
    },
    {
     "name": "stdout",
     "output_type": "stream",
     "text": [
      "Minibatch loss_val at epoch 92: 0.003154 val_accuracy=0.990366\n"
     ]
    },
    {
     "name": "stderr",
     "output_type": "stream",
     "text": [
      "Epoch 94/100: 100%|██████████| 261/261 [00:10<00:00, 23.98batches/s]\n",
      "Epoch 95/100:   0%|          | 0/261 [00:00<?, ?batches/s]"
     ]
    },
    {
     "name": "stdout",
     "output_type": "stream",
     "text": [
      "Minibatch loss_val at epoch 93: 0.000554 val_accuracy=0.993199\n"
     ]
    },
    {
     "name": "stderr",
     "output_type": "stream",
     "text": [
      "Epoch 95/100: 100%|██████████| 261/261 [00:10<00:00, 23.97batches/s]\n",
      "Epoch 96/100:   0%|          | 0/261 [00:00<?, ?batches/s]"
     ]
    },
    {
     "name": "stdout",
     "output_type": "stream",
     "text": [
      "Minibatch loss_val at epoch 94: 0.001082 val_accuracy=0.992916\n"
     ]
    },
    {
     "name": "stderr",
     "output_type": "stream",
     "text": [
      "Epoch 96/100: 100%|██████████| 261/261 [00:11<00:00, 23.69batches/s]\n",
      "Epoch 97/100:   0%|          | 0/261 [00:00<?, ?batches/s]"
     ]
    },
    {
     "name": "stdout",
     "output_type": "stream",
     "text": [
      "Minibatch loss_val at epoch 95: 0.024509 val_accuracy=0.991216\n"
     ]
    },
    {
     "name": "stderr",
     "output_type": "stream",
     "text": [
      "Epoch 97/100: 100%|██████████| 261/261 [00:10<00:00, 24.10batches/s]\n",
      "Epoch 98/100:   0%|          | 0/261 [00:00<?, ?batches/s]"
     ]
    },
    {
     "name": "stdout",
     "output_type": "stream",
     "text": [
      "Minibatch loss_val at epoch 96: 0.000419 val_accuracy=0.993766\n"
     ]
    },
    {
     "name": "stderr",
     "output_type": "stream",
     "text": [
      "Epoch 98/100: 100%|██████████| 261/261 [00:10<00:00, 23.84batches/s]\n",
      "Epoch 99/100:   0%|          | 0/261 [00:00<?, ?batches/s]"
     ]
    },
    {
     "name": "stdout",
     "output_type": "stream",
     "text": [
      "Minibatch loss_val at epoch 97: 0.012995 val_accuracy=0.991782\n"
     ]
    },
    {
     "name": "stderr",
     "output_type": "stream",
     "text": [
      "Epoch 99/100: 100%|██████████| 261/261 [00:10<00:00, 24.15batches/s]\n",
      "Epoch 100/100:   0%|          | 0/261 [00:00<?, ?batches/s]"
     ]
    },
    {
     "name": "stdout",
     "output_type": "stream",
     "text": [
      "Minibatch loss_val at epoch 98: 0.003355 val_accuracy=0.986115\n"
     ]
    },
    {
     "name": "stderr",
     "output_type": "stream",
     "text": [
      "Epoch 100/100: 100%|██████████| 261/261 [00:10<00:00, 24.69batches/s]\n"
     ]
    },
    {
     "name": "stdout",
     "output_type": "stream",
     "text": [
      "Minibatch loss_val at epoch 99: 0.000233 val_accuracy=0.989232\n",
      "Model saved in file: /home/francisco/git/CarND-P2/model_epoch10.ckpt\n"
     ]
    },
    {
     "data": {
      "image/png": "[encoded data removed]",
      "text/plain": [
       "<matplotlib.figure.Figure at 0x7fdc3e853c88>"
      ]
     },
     "metadata": {},
     "output_type": "display_data"
    },
    {
     "name": "stdout",
     "output_type": "stream",
     "text": [
      "Validation accuracy at 0.989232063293457\n",
      "Test accuracy at 0.9460000991821289\n"
     ]
    }
   ],
   "source": [
    "with tf.Session() as session:\n",
    "    session.run(init)\n",
    "    batch_count = int(math.ceil(train_subset/batch_size))\n",
    "\n",
    "    for epoch_i in range(epochs):\n",
    "        \n",
    "        # Progress bar\n",
    "        batches_pbar = tqdm(range(batch_count), desc='Epoch {:>2}/{}'.format(epoch_i+1, epochs), unit='batches')\n",
    "        \n",
    "        # The training cycle\n",
    "        for batch_i in batches_pbar:\n",
    "            # Get a batch of training features and labels\n",
    "            batch_start = batch_i*batch_size\n",
    "            batch_features = train_dataset[batch_start:batch_start + batch_size]\n",
    "            batch_labels   = train_labels[batch_start:batch_start + batch_size]\n",
    "            batch_feed_dict={x: batch_features,l: batch_labels,keep_prob:dropout}\n",
    "            \n",
    "            #print(\"batch_features.shape=\",batch_features.shape)\n",
    "            #print(\"batch_labels  .shape=\",batch_labels[:10])\n",
    "\n",
    "            # Run optimizer and get loss\n",
    "            session.run(optimizer,feed_dict=batch_feed_dict)\n",
    "\n",
    "            # Log every 50 batches\n",
    "            if not batch_i % log_batch_step:\n",
    "                # Calculate Training and Validation accuracy\n",
    "                training_accuracy = session.run(accuracy, feed_dict=batch_feed_dict)\n",
    "                validation_accuracy = session.run(accuracy, feed_dict=valid_feed_dict)\n",
    "                loss_val=session.run(loss,feed_dict={x: batch_features,l: batch_labels,keep_prob:1.0})\n",
    "                #print(\"Minibatch loss at step %d: %f\" % (batch_i, loss_val))\n",
    "\n",
    "                # Log batches\n",
    "                previous_batch = batches[-1] if batches else 0\n",
    "                batches.append(log_batch_step + previous_batch)\n",
    "                loss_batch.append(loss_val)\n",
    "                train_acc_batch.append(training_accuracy)\n",
    "                valid_acc_batch.append(validation_accuracy)\n",
    "        # Check accuracy against Validation data\n",
    "        validation_accuracy = session.run(accuracy, feed_dict=valid_feed_dict)\n",
    "        print(\"Minibatch loss_val at epoch %d: %f val_accuracy=%f\" % (epoch_i, loss_val,validation_accuracy))\n",
    "    test_accuracy=session.run(accuracy,feed_dict=test_feed_dict)\n",
    "    save_path=saver.save(session,\"/home/francisco/git/CarND-P2/model_epoch10.ckpt\")\n",
    "    print(\"Model saved in file: %s\"%save_path)\n",
    "loss_plot = plt.subplot(211)\n",
    "loss_plot.set_title('Loss')\n",
    "loss_plot.plot(batches, loss_batch, 'g')\n",
    "loss_plot.set_xlim([batches[0], batches[-1]])\n",
    "acc_plot = plt.subplot(212)\n",
    "acc_plot.set_title('Accuracy')\n",
    "acc_plot.plot(batches, train_acc_batch, 'r', label='Training Accuracy')\n",
    "acc_plot.plot(batches, valid_acc_batch, 'b', label='Validation Accuracy')\n",
    "acc_plot.set_ylim([0, 1.0])\n",
    "acc_plot.set_xlim([batches[0], batches[-1]])\n",
    "acc_plot.legend(loc=4)\n",
    "plt.tight_layout()\n",
    "plt.show()\n",
    "\n",
    "print('Validation accuracy at {}'.format(validation_accuracy))\n",
    "print('Test accuracy at {}'.format(test_accuracy))"
   ]
  },
  {
   "cell_type": "markdown",
   "metadata": {
    "deletable": true,
    "editable": true
   },
   "source": [
    "### Question 4\n",
    "\n",
    "_How did you train your model? (Type of optimizer, batch size, epochs, hyperparameters, etc.)_\n"
   ]
  },
  {
   "cell_type": "markdown",
   "metadata": {
    "deletable": true,
    "editable": true
   },
   "source": [
    "**Answer:**<BR>\n",
    "I have used:\n",
    "- Adam optimizer with 0.001 learning rate.\n",
    "- Batch sizes of 128\n",
    "- 100 epochs and dropout 0.5\n",
    "- 5x5x32 first conv\n",
    "- 5x5x64 second conv\n",
    "- 512 first full\n",
    "- 256 second full\n"
   ]
  },
  {
   "cell_type": "markdown",
   "metadata": {
    "deletable": true,
    "editable": true
   },
   "source": [
    "### Question 5\n",
    "\n",
    "\n",
    "_What approach did you take in coming up with a solution to this problem?_"
   ]
  },
  {
   "cell_type": "markdown",
   "metadata": {
    "deletable": true,
    "editable": true
   },
   "source": [
    "**Answer:**<br>\n",
    "I started with ann0 which is a one layer neuron with dropouts.<BR>\n",
    "After that I tryed with ann1 adding two conv layers.<BR>\n",
    "Finally I added a full layer more.<BR>\n",
    "I started with few epoch and since dropout regularization, as much epoch as better I have rise the epoch:<BR>\n",
    "- 50  with 92.12% on test data.\n",
    "- 100 with 95.45% on test data.\n",
    "- 150 with 93.70% on test data."
   ]
  },
  {
   "cell_type": "markdown",
   "metadata": {
    "deletable": true,
    "editable": true
   },
   "source": [
    "---\n",
    "\n",
    "## Step 3: Test a Model on New Images\n",
    "\n",
    "Take several pictures of traffic signs that you find on the web or around you (at least five), and run them through your classifier on your computer to produce example results. The classifier might not recognize some local signs but it could prove interesting nonetheless.\n",
    "\n",
    "You may find `signnames.csv` useful as it contains mappings from the class id (integer) to the actual sign name."
   ]
  },
  {
   "cell_type": "markdown",
   "metadata": {
    "deletable": true,
    "editable": true
   },
   "source": [
    "### Implementation\n",
    "\n",
    "Use the code cell (or multiple code cells, if necessary) to implement the first step of your project. Once you have completed your implementation and are satisfied with the results, be sure to thoroughly answer the questions that follow."
   ]
  },
  {
   "cell_type": "code",
   "execution_count": 8,
   "metadata": {
    "collapsed": false,
    "deletable": true,
    "editable": true
   },
   "outputs": [
    {
     "name": "stdout",
     "output_type": "stream",
     "text": [
      "(10, 32, 32, 3)\n",
      "min,max= 0.0 255.0\n",
      "min,max= -0.5 0.5\n"
     ]
    },
    {
     "data": {
      "image/png": "[encoded data removed]",
      "text/plain": [
       "<matplotlib.figure.Figure at 0x7f3ba17ee5f8>"
      ]
     },
     "metadata": {},
     "output_type": "display_data"
    },
    {
     "data": {
      "image/png": "[encoded data removed]",
      "text/plain": [
       "<matplotlib.figure.Figure at 0x7f3bc05f9ac8>"
      ]
     },
     "metadata": {},
     "output_type": "display_data"
    },
    {
     "data": {
      "image/png": "[encoded data removed]",
      "text/plain": [
       "<matplotlib.figure.Figure at 0x7f3bc06961d0>"
      ]
     },
     "metadata": {},
     "output_type": "display_data"
    },
    {
     "data": {
      "image/png": "[encoded data removed]",
      "text/plain": [
       "<matplotlib.figure.Figure at 0x7f3ba18fc4a8>"
      ]
     },
     "metadata": {},
     "output_type": "display_data"
    },
    {
     "data": {
      "image/png": "[encoded data removed]",
      "text/plain": [
       "<matplotlib.figure.Figure at 0x7f3ba1936278>"
      ]
     },
     "metadata": {},
     "output_type": "display_data"
    },
    {
     "data": {
      "image/png": "[encoded data removed]",
      "text/plain": [
       "<matplotlib.figure.Figure at 0x7f3ba16fe390>"
      ]
     },
     "metadata": {},
     "output_type": "display_data"
    },
    {
     "data": {
      "image/png": "[encoded data removed]",
      "text/plain": [
       "<matplotlib.figure.Figure at 0x7f3ba1648048>"
      ]
     },
     "metadata": {},
     "output_type": "display_data"
    },
    {
     "data": {
      "image/png": "[encoded data removed]",
      "text/plain": [
       "<matplotlib.figure.Figure at 0x7f3ba161c320>"
      ]
     },
     "metadata": {},
     "output_type": "display_data"
    },
    {
     "data": {
      "image/png": "[encoded data removed]",
      "text/plain": [
       "<matplotlib.figure.Figure at 0x7f3ba11dcdd8>"
      ]
     },
     "metadata": {},
     "output_type": "display_data"
    },
    {
     "data": {
      "image/png": "[encoded data removed]",
      "text/plain": [
       "<matplotlib.figure.Figure at 0x7f3ba11b50f0>"
      ]
     },
     "metadata": {},
     "output_type": "display_data"
    }
   ],
   "source": [
    "### Load the images and plot them here.\n",
    "### Feel free to use as many code cells as needed.\n",
    "import PIL.Image as pimg\n",
    "#import os\n",
    "#os.listdir(\".\")\n",
    "with open(\"signnames.csv\") as f:\n",
    "    signames=f.readlines()\n",
    "size=(32,32)\n",
    "limg=[]\n",
    "ly=[14,1,3,7,8,12,17,36,9,10]\n",
    "names=[\"stop.jpg\",\n",
    "       \"speedlimit30.jpg\",\n",
    "       \"speedlimit60.jpg\",\n",
    "       \"speedlimit100.jpg\",\n",
    "       \"speedlimit120.jpg\",\n",
    "       \"priorityroad.jpg\",\n",
    "       #\"dontturnleft.jpg\",\n",
    "       \"forbident.jpg\",\n",
    "       \"gostraightorright.jpg\",\n",
    "       \"nopassing.jpg\",\n",
    "       \"nopassingtrunk.jpg\"]\n",
    "for fn in names:\n",
    "    im1=pimg.open(fn)\n",
    "    im1=im1.resize(size, pimg.ANTIALIAS)\n",
    "    im1=np.array(im1)\n",
    "    plt.figure()\n",
    "    plt.imshow(im1)\n",
    "    limg.append(im1)\n",
    "X_new=np.array(limg)\n",
    "y_new=np.array(ly)\n",
    "print(X_new.shape)\n",
    "new_dataset_prenorm, new_labels = reformat(X_new,y_new)\n",
    "#print(\"new_labels=\",new_labels)\n",
    "print(\"min,max=\",np.min(new_dataset_prenorm),np.max(new_dataset_prenorm))\n",
    "new_dataset=normalize(new_dataset_prenorm)\n",
    "print(\"min,max=\",np.min(new_dataset),np.max(new_dataset))\n",
    "new_feed_dict={x:new_dataset,l:new_labels,keep_prob:1.0}"
   ]
  },
  {
   "cell_type": "markdown",
   "metadata": {
    "deletable": true,
    "editable": true
   },
   "source": [
    "### Question 6\n",
    "\n",
    "_Choose five candidate images of traffic signs and provide them in the report. Are there any particular qualities of the image(s) that might make classification difficult? It would be helpful to plot the images in the notebook._\n",
    "\n"
   ]
  },
  {
   "cell_type": "markdown",
   "metadata": {
    "deletable": true,
    "editable": true
   },
   "source": [
    "**Answer:**<BR>\n",
    "Some images, mainly speedlimit, are oversized and are cropped to, and they are badly clasified. That is because in the dataset there is not this kind of images. On the other hand dontturnleft.jpg is not in the dataset."
   ]
  },
  {
   "cell_type": "code",
   "execution_count": 22,
   "metadata": {
    "collapsed": false,
    "deletable": true,
    "editable": true
   },
   "outputs": [
    {
     "name": "stdout",
     "output_type": "stream",
     "text": [
      "INFO:tensorflow:Restoring parameters from /home/francisco/git/CarND-P2/model_epoch150.ckpt\n",
      "Model restored\n",
      "Session run prediction\n",
      "Session run accuracy\n",
      "predSoft= [ 0.  0.  0.  0.  0.  0.  0.  0.  0.  0.  0.  0.  0.  0.  1.  0.  0.  0.\n",
      "  0.  0.  0.  0.  0.  0.  0.  0.  0.  0.  0.  0.  0.  0.  0.  0.  0.  0.\n",
      "  0.  0.  0.  0.  0.  0.  0.]\n",
      "actu= [14, 1, 3, 7, 8, 12, 17, 36, 9, 10]\n",
      "pred= [14 11  4  1  1 12 17 36  9 10]\n",
      "1 1,Speed limit (30km/h)\n",
      " 11,Right-of-way at the next intersection\n",
      "\n",
      "2 3,Speed limit (60km/h)\n",
      " 4,Speed limit (70km/h)\n",
      "\n",
      "3 7,Speed limit (100km/h)\n",
      " 1,Speed limit (30km/h)\n",
      "\n",
      "4 8,Speed limit (120km/h)\n",
      " 1,Speed limit (30km/h)\n",
      "\n",
      "new_accuracy= 0.7\n"
     ]
    }
   ],
   "source": [
    "### Run the predictions here.\n",
    "### Feel free to use as many code cells as needed.\n",
    "#saver=tf.train.Saver()\n",
    "with tf.Session() as session:\n",
    "    session.run(init)\n",
    "    saver.restore(session,\"/home/francisco/git/CarND-P2/model_epoch150.ckpt\")\n",
    "    print(\"Model restored\")\n",
    "    predSoft=session.run(prediction,feed_dict=new_feed_dict)\n",
    "    print(\"Session run prediction\")\n",
    "    # Check accuracy against samples\n",
    "    new_accuracy = session.run(accuracy, feed_dict=new_feed_dict)\n",
    "    print(\"Session run accuracy\")\n",
    "pred=np.argmax(predSoft,axis=1)\n",
    "print(\"predSoft=\",predSoft[0])\n",
    "lnames=[]\n",
    "print(\"actu=\",ly)\n",
    "print(\"pred=\",pred)\n",
    "for i,k in enumerate(pred):\n",
    "    if(ly[i]!=k):\n",
    "        print(i,signames[ly[i]+1],signames[k+1])\n",
    "    lnames.append(signames[ly[i]+1])\n",
    "    \n",
    "print(\"new_accuracy=\",new_accuracy)\n",
    "                       "
   ]
  },
  {
   "cell_type": "markdown",
   "metadata": {
    "deletable": true,
    "editable": true
   },
   "source": [
    "### Question 7\n",
    "\n",
    "_Is your model able to perform equally well on captured pictures or a live camera stream when compared to testing on the dataset?_\n"
   ]
  },
  {
   "cell_type": "markdown",
   "metadata": {
    "deletable": true,
    "editable": true
   },
   "source": [
    "**Answer:**<BR>\n",
    "The accuracy of captured pictures is 0.7 is not as good as 95% in test data.\n",
    "REVIEW:\n",
    "It would do better if I chose pictures well cropped and not oversized, but overall I am happy with the result.\n",
    "If I had aumented the data set with transformations and mainly resizing images the captured picture accuracy could have improve."
   ]
  },
  {
   "cell_type": "code",
   "execution_count": 23,
   "metadata": {
    "collapsed": false,
    "deletable": true,
    "editable": true
   },
   "outputs": [
    {
     "name": "stdout",
     "output_type": "stream",
     "text": [
      "(10, 43)\n",
      "14\n"
     ]
    },
    {
     "data": {
      "image/png": "[encoded data removed]",
      "text/plain": [
       "<matplotlib.figure.Figure at 0x7f3ba1147a90>"
      ]
     },
     "metadata": {},
     "output_type": "display_data"
    },
    {
     "name": "stdout",
     "output_type": "stream",
     "text": [
      "11\n"
     ]
    },
    {
     "data": {
      "image/png": "[encoded data removed]",
      "text/plain": [
       "<matplotlib.figure.Figure at 0x7f3bbe4e1f60>"
      ]
     },
     "metadata": {},
     "output_type": "display_data"
    },
    {
     "name": "stdout",
     "output_type": "stream",
     "text": [
      "4\n"
     ]
    },
    {
     "data": {
      "image/png": "[encoded data removed]",
      "text/plain": [
       "<matplotlib.figure.Figure at 0x7f3b97c72518>"
      ]
     },
     "metadata": {},
     "output_type": "display_data"
    },
    {
     "name": "stdout",
     "output_type": "stream",
     "text": [
      "1\n"
     ]
    },
    {
     "data": {
      "image/png": "[encoded data removed]",
      "text/plain": [
       "<matplotlib.figure.Figure at 0x7f3b97bcee80>"
      ]
     },
     "metadata": {},
     "output_type": "display_data"
    },
    {
     "name": "stdout",
     "output_type": "stream",
     "text": [
      "1\n"
     ]
    },
    {
     "data": {
      "image/png": "[encoded data removed]",
      "text/plain": [
       "<matplotlib.figure.Figure at 0x7f3b7b2b2208>"
      ]
     },
     "metadata": {},
     "output_type": "display_data"
    },
    {
     "name": "stdout",
     "output_type": "stream",
     "text": [
      "12\n"
     ]
    },
    {
     "data": {
      "image/png": "[encoded data removed]",
      "text/plain": [
       "<matplotlib.figure.Figure at 0x7f3b7b246c50>"
      ]
     },
     "metadata": {},
     "output_type": "display_data"
    },
    {
     "name": "stdout",
     "output_type": "stream",
     "text": [
      "17\n"
     ]
    },
    {
     "data": {
      "image/png": "[encoded data removed]",
      "text/plain": [
       "<matplotlib.figure.Figure at 0x7f3b97bb62b0>"
      ]
     },
     "metadata": {},
     "output_type": "display_data"
    },
    {
     "name": "stdout",
     "output_type": "stream",
     "text": [
      "36\n"
     ]
    },
    {
     "data": {
      "image/png": "[encoded data removed]",
      "text/plain": [
       "<matplotlib.figure.Figure at 0x7f3b97c14048>"
      ]
     },
     "metadata": {},
     "output_type": "display_data"
    },
    {
     "name": "stdout",
     "output_type": "stream",
     "text": [
      "9\n"
     ]
    },
    {
     "data": {
      "image/png": "[encoded data removed]",
      "text/plain": [
       "<matplotlib.figure.Figure at 0x7f3b7b253710>"
      ]
     },
     "metadata": {},
     "output_type": "display_data"
    },
    {
     "name": "stdout",
     "output_type": "stream",
     "text": [
      "10\n"
     ]
    },
    {
     "data": {
      "image/png": "[encoded data removed]",
      "text/plain": [
       "<matplotlib.figure.Figure at 0x7f3b7b069390>"
      ]
     },
     "metadata": {},
     "output_type": "display_data"
    }
   ],
   "source": [
    "### Visualize the softmax probabilities here.\n",
    "### Feel free to use as many code cells as needed.\n",
    "print(predSoft.shape)\n",
    "for i in range(predSoft.shape[0]):\n",
    "    plt.figure(i)\n",
    "    print(pred[i])\n",
    "    plt.title(lnames[i])\n",
    "    plt.xlabel(\"Sign\")\n",
    "    plt.ylabel(\"Probability\")\n",
    "    plt.bar(range(43),predSoft[i])\n",
    "    #plt.set_ylim([0, 1.0])\n",
    "    #plt.set_xlim([0, 42])\n",
    "    #plt.axis([0,42,0.0,1.0])\n",
    "    plt.show()\n"
   ]
  },
  {
   "cell_type": "markdown",
   "metadata": {
    "deletable": true,
    "editable": true
   },
   "source": [
    "### Question 8\n",
    "\n",
    "*Use the model's softmax probabilities to visualize the **certainty** of its predictions, [`tf.nn.top_k`](https://www.tensorflow.org/versions/r0.11/api_docs/python/nn.html#top_k) could prove helpful here. Which predictions is the model certain of? Uncertain? If the model was incorrect in its initial prediction, does the correct prediction appear in the top k? (k should be 5 at most)*\n"
   ]
  },
  {
   "cell_type": "markdown",
   "metadata": {
    "deletable": true,
    "editable": true
   },
   "source": [
    "**Answer:**<BR>\n",
    "On charts It can be seen that bad classified are more peaked histograms. That happend on the speedlimit images. <BR>\n",
    "On the other hand the image that is not in the dataset dontturnleft.jpg has high confidence, since there is no more than one peak."
   ]
  },
  {
   "cell_type": "markdown",
   "metadata": {
    "deletable": true,
    "editable": true
   },
   "source": [
    "### Question 9\n",
    "_If necessary, provide documentation for how an interface was built for your model to load and classify newly-acquired images._\n"
   ]
  },
  {
   "cell_type": "markdown",
   "metadata": {
    "deletable": true,
    "editable": true
   },
   "source": [
    "**Answer:**<BR>\n",
    "I would need a traffic sign detector, then crop the roi, load the model and predict the result.<BR>\n",
    "In Dlib C++ library there is a detector using  max-margin object-detection algorithm (MMOD) in combination with deep learning, and it works very well and fast, with only a few training data. This is the URL with more details:\n",
    "- http://blog.dlib.net/\n",
    "\n",
    "I would like to use it in my guide robot in order to detect pedestrian and dinamic object in the university campus."
   ]
  },
  {
   "cell_type": "markdown",
   "metadata": {
    "deletable": true,
    "editable": true
   },
   "source": [
    "> **Note**: Once you have completed all of the code implementations and successfully answered each question above, you may finalize your work by exporting the iPython Notebook as an HTML document. You can do this by using the menu above and navigating to  \\n\",\n",
    "    \"**File -> Download as -> HTML (.html)**. Include the finished document along with this notebook as your submission."
   ]
  },
  {
   "cell_type": "code",
   "execution_count": null,
   "metadata": {
    "collapsed": true,
    "deletable": true,
    "editable": true
   },
   "outputs": [],
   "source": []
  }
 ],
 "metadata": {
  "anaconda-cloud": {},
  "kernelspec": {
   "display_name": "Python 3",
   "language": "python",
   "name": "python3"
  },
  "language_info": {
   "codemirror_mode": {
    "name": "ipython",
    "version": 3
   },
   "file_extension": ".py",
   "mimetype": "text/x-python",
   "name": "python",
   "nbconvert_exporter": "python",
   "pygments_lexer": "ipython3",
   "version": "3.5.2"
  },
  "widgets": {
   "state": {},
   "version": "1.1.2"
  }
 },
 "nbformat": 4,
 "nbformat_minor": 1
}
